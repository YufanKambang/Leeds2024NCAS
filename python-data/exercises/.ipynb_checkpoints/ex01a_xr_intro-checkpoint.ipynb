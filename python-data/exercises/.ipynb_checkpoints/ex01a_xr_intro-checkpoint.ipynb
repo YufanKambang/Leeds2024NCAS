{
 "cells": [
  {
   "cell_type": "markdown",
   "id": "2713343a-c0f0-4da3-979f-bb0d9f8a5e4a",
   "metadata": {
    "editable": true,
    "slideshow": {
     "slide_type": ""
    },
    "tags": []
   },
   "source": [
    "# Exercise 1a: Introduction to xarray\n"
   ]
  },
  {
   "cell_type": "markdown",
   "id": "bbe08d6c-c85d-4798-9343-b3e958cf39d4",
   "metadata": {},
   "source": [
    "## Aim: Learn about what xarray is and how to create and look at a `DataArray`."
   ]
  },
  {
   "cell_type": "markdown",
   "id": "c6bbe825-2d51-4e8a-bc9d-8ca75ba0d2c5",
   "metadata": {},
   "source": [
    "Find the teaching resources here: https://tutorial.xarray.dev/fundamentals/01_data_structures.html and https://tutorial.xarray.dev/fundamentals/01_datastructures.html."
   ]
  },
  {
   "cell_type": "markdown",
   "id": "f98aa85b-8e65-4894-9b61-13acdb9938dc",
   "metadata": {},
   "source": [
    "### Issues Covered:\n",
    "- Importing `xarray`\n",
    "- Loading a dataset using `xr.open_dataset()`\n",
    "- Creating a `DataArray`"
   ]
  },
  {
   "cell_type": "markdown",
   "id": "adb09498-99fc-4174-8661-4b29858975d3",
   "metadata": {},
   "source": [
    "## 1. Introduction to multidimensional arrays"
   ]
  },
  {
   "cell_type": "markdown",
   "id": "308be498-f527-4886-b5a8-474e43e7a1f9",
   "metadata": {},
   "source": [
    "- Unlabelled N dimensional arrays of numbers are the most widely used data structure in scientific computing\n",
    "- These arrays lack meaningful metadata so users must track indices in an arbitrary fashion"
   ]
  },
  {
   "cell_type": "markdown",
   "id": "3d4d8868-a7d4-4651-a07a-ec10104f34b2",
   "metadata": {},
   "source": [
    "<img src=\"../images/multidimensional_array.png\" width=\"800\"/>"
   ]
  },
  {
   "cell_type": "markdown",
   "id": "adabc378-941e-4520-a787-b02a563c6956",
   "metadata": {},
   "source": [
    "Q1. Can you think of any reasons why xarray might be preferred to pandas when working with multi-dimensional data like climate models?\n",
    "(Hint: how many dimensions does a pandas dataframe have?)"
   ]
  },
  {
   "cell_type": "code",
   "execution_count": 1,
   "id": "14157c3e-af21-444e-9e8d-5a78eeb9edad",
   "metadata": {
    "editable": true,
    "execution": {
     "iopub.execute_input": "2024-11-08T14:53:54.796581Z",
     "iopub.status.busy": "2024-11-08T14:53:54.796266Z",
     "iopub.status.idle": "2024-11-08T14:53:54.799454Z",
     "shell.execute_reply": "2024-11-08T14:53:54.798949Z"
    },
    "slideshow": {
     "slide_type": ""
    },
    "tags": [
     "clear_answer_cell"
    ]
   },
   "outputs": [],
   "source": []
  },
  {
   "cell_type": "markdown",
   "id": "4352c46a-c179-439e-b1fe-3953dc8ee41c",
   "metadata": {},
   "source": [
    "## 2. Opening and Exploring Datasets"
   ]
  },
  {
   "cell_type": "markdown",
   "id": "48d19019-2546-46d3-9da1-64d8e7c363e8",
   "metadata": {
    "editable": true,
    "slideshow": {
     "slide_type": ""
    },
    "tags": []
   },
   "source": [
    "Q2. Open the `'../data/xbhubo.pgc0apr.nc'` dataset and load it into an xarray `Dataset` called `ds`.\n",
    "(Hint: Don't forget to import any packages you need).\n",
    "This file is a model run for HadCM3 run as part of the RAPID study: https://catalogue.ceda.ac.uk/uuid/6bbab8394124b252f8b1b036f9eb6b6b/"
   ]
  },
  {
   "cell_type": "code",
   "execution_count": 3,
   "id": "397feb59-dd4a-42bf-bf95-f093d75d28b3",
   "metadata": {
    "editable": true,
    "slideshow": {
     "slide_type": ""
    },
    "tags": [
     "clear_answer_cell"
    ]
   },
   "outputs": [
    {
     "name": "stdout",
     "output_type": "stream",
     "text": [
      "<xarray.Dataset> Size: 13MB\n",
      "Dimensions:      (longitude: 288, latitude: 144, depth: 20, t: 1,\n",
      "                  longitude_1: 288, latitude_1: 143)\n",
      "Coordinates:\n",
      "  * longitude    (longitude) float32 1kB 0.0 1.25 2.5 3.75 ... 356.2 357.5 358.8\n",
      "  * latitude     (latitude) float32 576B -89.38 -88.12 -86.88 ... 88.12 89.38\n",
      "  * depth        (depth) float32 80B 5.0 15.0 25.0 ... 4.577e+03 5.192e+03\n",
      "  * t            (t) object 8B 1920-04-16 00:00:00\n",
      "  * longitude_1  (longitude_1) float32 1kB 0.625 1.875 3.125 ... 358.1 359.4\n",
      "  * latitude_1   (latitude_1) float32 572B -88.75 -87.5 -86.25 ... 87.5 88.75\n",
      "Data variables:\n",
      "    temp         (t, depth, latitude, longitude) float32 3MB ...\n",
      "    salinity     (t, depth, latitude, longitude) float32 3MB ...\n",
      "    ucurr        (t, depth, latitude_1, longitude_1) float32 3MB ...\n",
      "    vcurr        (t, depth, latitude_1, longitude_1) float32 3MB ...\n",
      "Attributes:\n",
      "    history:      Tue Sep 12 11:49:35 BST 2006 - CONVSH V1.91 16-February-2006\n",
      "    Conventions:  CF-1.0\n"
     ]
    }
   ],
   "source": [
    "import xarray as xr\n",
    "ds = xr.open_dataset('../data/xbhubo.pgc0apr.nc', engine=\"netcdf4\")\n",
    "print(ds)"
   ]
  },
  {
   "cell_type": "markdown",
   "id": "9c34363a-9168-4478-885a-7bd2ec669f3a",
   "metadata": {
    "editable": true,
    "slideshow": {
     "slide_type": ""
    },
    "tags": []
   },
   "source": [
    "Q3. Look at the parameters of the dataset."
   ]
  },
  {
   "cell_type": "code",
   "execution_count": 3,
   "id": "1257eab9-ded3-4e4b-b703-0b39236f5d23",
   "metadata": {
    "editable": true,
    "execution": {
     "iopub.execute_input": "2024-11-08T14:54:03.270257Z",
     "iopub.status.busy": "2024-11-08T14:54:03.269693Z",
     "iopub.status.idle": "2024-11-08T14:54:03.295793Z",
     "shell.execute_reply": "2024-11-08T14:54:03.295117Z"
    },
    "slideshow": {
     "slide_type": ""
    },
    "tags": [
     "clear_answer_cell"
    ]
   },
   "outputs": [],
   "source": []
  },
  {
   "cell_type": "markdown",
   "id": "3cee6429-dbf8-4a10-b384-ad9de719a0d0",
   "metadata": {
    "editable": true,
    "slideshow": {
     "slide_type": ""
    },
    "tags": []
   },
   "source": [
    "Q4. What are the dimensions and variables in this dataset? What does each represent? "
   ]
  },
  {
   "cell_type": "code",
   "execution_count": 4,
   "id": "67ff7eb4-4058-4041-beb7-66e294542887",
   "metadata": {
    "editable": true,
    "execution": {
     "iopub.execute_input": "2024-11-08T14:54:03.298211Z",
     "iopub.status.busy": "2024-11-08T14:54:03.297936Z",
     "iopub.status.idle": "2024-11-08T14:54:03.300747Z",
     "shell.execute_reply": "2024-11-08T14:54:03.300254Z"
    },
    "slideshow": {
     "slide_type": ""
    },
    "tags": [
     "clear_answer_cell"
    ]
   },
   "outputs": [],
   "source": []
  },
  {
   "cell_type": "markdown",
   "id": "81207a17-eeaf-4de3-a3f6-9a0fd782c252",
   "metadata": {
    "editable": true,
    "slideshow": {
     "slide_type": ""
    },
    "tags": []
   },
   "source": [
    "Q5. Find the name of the temperature data variable, and use it to extract a `DataArray` called `temperature`."
   ]
  },
  {
   "cell_type": "code",
   "execution_count": 7,
   "id": "3d0218b3-df73-4037-9fb9-eea80e1a70d2",
   "metadata": {
    "editable": true,
    "slideshow": {
     "slide_type": ""
    },
    "tags": [
     "clear_answer_cell"
    ]
   },
   "outputs": [
    {
     "name": "stdout",
     "output_type": "stream",
     "text": [
      "<xarray.DataArray 'temp' (t: 1, depth: 20, latitude: 144, longitude: 288)> Size: 3MB\n",
      "[829440 values with dtype=float32]\n",
      "Coordinates:\n",
      "  * longitude  (longitude) float32 1kB 0.0 1.25 2.5 3.75 ... 356.2 357.5 358.8\n",
      "  * latitude   (latitude) float32 576B -89.38 -88.12 -86.88 ... 88.12 89.38\n",
      "  * depth      (depth) float32 80B 5.0 15.0 25.0 ... 4.577e+03 5.192e+03\n",
      "  * t          (t) object 8B 1920-04-16 00:00:00\n",
      "Attributes:\n",
      "    source:     Unified Model Output:\n",
      "    name:       temp\n",
      "    title:      POTENTIAL TEMPERATURE (OCEAN)  DEG.C\n",
      "    date:       01/12/99\n",
      "    time:       00:00\n",
      "    long_name:  POTENTIAL TEMPERATURE (OCEAN)  DEG.C\n",
      "    units:      degC\n",
      "    valid_min:  -1.7999878\n",
      "    valid_max:  35.0495\n"
     ]
    }
   ],
   "source": [
    "temperature = ds['temp']\n",
    "print(temperature)"
   ]
  },
  {
   "cell_type": "markdown",
   "id": "6ee4a984-305e-44da-87ab-75cf88d71f22",
   "metadata": {
    "editable": true,
    "slideshow": {
     "slide_type": ""
    },
    "tags": []
   },
   "source": [
    "Q6. Take a look at the `temperature` data array and inspect its dimensions, coordinates and attributes. What are the specific dimensions and coordinates associated with it? What metadata (attributes) is provided?"
   ]
  },
  {
   "cell_type": "code",
   "execution_count": 13,
   "id": "cc8a03b5-d7ce-406b-9602-47a153d2d7ec",
   "metadata": {
    "editable": true,
    "slideshow": {
     "slide_type": ""
    },
    "tags": [
     "clear_answer_cell"
    ]
   },
   "outputs": [
    {
     "name": "stdout",
     "output_type": "stream",
     "text": [
      "('t', 'depth', 'latitude', 'longitude') \n",
      "\n",
      "(1, 20, 144, 288) \n",
      "\n",
      "Coordinates:\n",
      "  * longitude  (longitude) float32 1kB 0.0 1.25 2.5 3.75 ... 356.2 357.5 358.8\n",
      "  * latitude   (latitude) float32 576B -89.38 -88.12 -86.88 ... 88.12 89.38\n",
      "  * depth      (depth) float32 80B 5.0 15.0 25.0 ... 4.577e+03 5.192e+03\n",
      "  * t          (t) object 8B 1920-04-16 00:00:00 \n",
      "\n",
      "{'source': 'Unified Model Output:', 'name': 'temp', 'title': 'POTENTIAL TEMPERATURE (OCEAN)  DEG.C', 'date': '01/12/99', 'time': '00:00', 'long_name': 'POTENTIAL TEMPERATURE (OCEAN)  DEG.C', 'units': 'degC', 'valid_min': -1.7999878, 'valid_max': 35.0495}\n"
     ]
    }
   ],
   "source": [
    "print(temperature.dims, '\\n')\n",
    "print(temperature.shape, '\\n')\n",
    "print(temperature.coords, '\\n')\n",
    "print(temperature.attrs)"
   ]
  },
  {
   "cell_type": "markdown",
   "id": "e36ca3a3-8387-480a-8dfe-161bc6292681",
   "metadata": {},
   "source": [
    "Q7. Find out what dimensions and coordinates exist in your dataset. Which latitude and longitude variables are associated with the ocean temperature variable?"
   ]
  },
  {
   "cell_type": "code",
   "execution_count": 22,
   "id": "32775beb-ec9b-4cc2-a8bb-ca59f8cf6bad",
   "metadata": {
    "editable": true,
    "slideshow": {
     "slide_type": ""
    },
    "tags": [
     "clear_answer_cell"
    ]
   },
   "outputs": [
    {
     "name": "stdout",
     "output_type": "stream",
     "text": [
      "<xarray.DataArray 'latitude' (latitude: 144)> Size: 576B\n",
      "array([-89.375, -88.125, -86.875, -85.625, -84.375, -83.125, -81.875, -80.625,\n",
      "       -79.375, -78.125, -76.875, -75.625, -74.375, -73.125, -71.875, -70.625,\n",
      "       -69.375, -68.125, -66.875, -65.625, -64.375, -63.125, -61.875, -60.625,\n",
      "       -59.375, -58.125, -56.875, -55.625, -54.375, -53.125, -51.875, -50.625,\n",
      "       -49.375, -48.125, -46.875, -45.625, -44.375, -43.125, -41.875, -40.625,\n",
      "       -39.375, -38.125, -36.875, -35.625, -34.375, -33.125, -31.875, -30.625,\n",
      "       -29.375, -28.125, -26.875, -25.625, -24.375, -23.125, -21.875, -20.625,\n",
      "       -19.375, -18.125, -16.875, -15.625, -14.375, -13.125, -11.875, -10.625,\n",
      "        -9.375,  -8.125,  -6.875,  -5.625,  -4.375,  -3.125,  -1.875,  -0.625,\n",
      "         0.625,   1.875,   3.125,   4.375,   5.625,   6.875,   8.125,   9.375,\n",
      "        10.625,  11.875,  13.125,  14.375,  15.625,  16.875,  18.125,  19.375,\n",
      "        20.625,  21.875,  23.125,  24.375,  25.625,  26.875,  28.125,  29.375,\n",
      "        30.625,  31.875,  33.125,  34.375,  35.625,  36.875,  38.125,  39.375,\n",
      "        40.625,  41.875,  43.125,  44.375,  45.625,  46.875,  48.125,  49.375,\n",
      "        50.625,  51.875,  53.125,  54.375,  55.625,  56.875,  58.125,  59.375,\n",
      "        60.625,  61.875,  63.125,  64.375,  65.625,  66.875,  68.125,  69.375,\n",
      "        70.625,  71.875,  73.125,  74.375,  75.625,  76.875,  78.125,  79.375,\n",
      "        80.625,  81.875,  83.125,  84.375,  85.625,  86.875,  88.125,  89.375],\n",
      "      dtype=float32)\n",
      "Coordinates:\n",
      "  * latitude  (latitude) float32 576B -89.38 -88.12 -86.88 ... 86.88 88.12 89.38\n",
      "Attributes:\n",
      "    units:          degrees_north\n",
      "    point_spacing:  even\n"
     ]
    }
   ],
   "source": [
    "print(temperature.coords['latitude'])"
   ]
  },
  {
   "cell_type": "code",
   "execution_count": 28,
   "id": "b870fe53-4075-41d0-b158-a85607db437d",
   "metadata": {},
   "outputs": [
    {
     "data": {
      "text/plain": [
       "[<matplotlib.lines.Line2D at 0x7f34ac750b50>]"
      ]
     },
     "execution_count": 28,
     "metadata": {},
     "output_type": "execute_result"
    },
    {
     "data": {
      "image/png": "[encoded data removed]",
      "text/plain": [
       "<Figure size 640x480 with 1 Axes>"
      ]
     },
     "metadata": {},
     "output_type": "display_data"
    }
   ],
   "source": [
    "temperature.sel(longitude='0.0', latitude=slice(-89.375, 0.625), depth='5.0').plot(color='blue')"
   ]
  },
  {
   "cell_type": "code",
   "execution_count": null,
   "id": "f887baf1-fcf3-42ee-92c2-214a11ece269",
   "metadata": {},
   "outputs": [],
   "source": []
  }
 ],
 "metadata": {
  "kernelspec": {
   "display_name": "Python 3 + Jaspy",
   "language": "python",
   "name": "jaspy"
  },
  "language_info": {
   "codemirror_mode": {
    "name": "ipython",
    "version": 3
   },
   "file_extension": ".py",
   "mimetype": "text/x-python",
   "name": "python",
   "nbconvert_exporter": "python",
   "pygments_lexer": "ipython3",
   "version": "3.11.9"
  }
 },
 "nbformat": 4,
 "nbformat_minor": 5
}
