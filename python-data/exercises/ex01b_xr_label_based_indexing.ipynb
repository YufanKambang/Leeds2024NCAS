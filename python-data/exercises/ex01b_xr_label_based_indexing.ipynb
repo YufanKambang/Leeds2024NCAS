{
 "cells": [
  {
   "cell_type": "markdown",
   "id": "77fa81b4-1601-4743-b297-ae21ac49fd49",
   "metadata": {
    "editable": true,
    "slideshow": {
     "slide_type": ""
    },
    "tags": []
   },
   "source": [
    "# Exercise 1b: Label-based indexing"
   ]
  },
  {
   "cell_type": "markdown",
   "id": "c1f847cc-4003-42a1-b484-7f7fc283b4c5",
   "metadata": {},
   "source": [
    "## Aim: Learn how to index data arrays"
   ]
  },
  {
   "cell_type": "markdown",
   "id": "6374f110-5ea1-4959-b226-4eeb18cf4899",
   "metadata": {},
   "source": [
    "Find the teaching resources here: https://tutorial.xarray.dev/fundamentals/02.1_indexing_Basic.html."
   ]
  },
  {
   "cell_type": "markdown",
   "id": "e0cc034f-61e8-430f-b5ea-511594ff8d42",
   "metadata": {},
   "source": [
    "### Issues Covered: \n",
    "- Indexing, using `.loc()`, `.isel()` and `.sel()`"
   ]
  },
  {
   "cell_type": "markdown",
   "id": "a33d279d-ad68-4790-8c97-f32cf1faa019",
   "metadata": {
    "editable": true,
    "slideshow": {
     "slide_type": ""
    },
    "tags": []
   },
   "source": [
    "Q1. Open the `'../data/xbhubo.pgc0apr.nc'` dataset and load it into an xarray `Dataset` called `ds`.\n",
    "(Hint: Don't forget to import any packages you need).\n",
    "This file is a model run for HadCM3 run as part of the RAPID study: https://catalogue.ceda.ac.uk/uuid/6bbab8394124b252f8b1b036f9eb6b6b/"
   ]
  },
  {
   "cell_type": "code",
   "execution_count": 1,
   "id": "778346e3-ed07-408f-83e7-3b12632761e5",
   "metadata": {
    "editable": true,
    "slideshow": {
     "slide_type": ""
    },
    "tags": []
   },
   "outputs": [
    {
     "name": "stdout",
     "output_type": "stream",
     "text": [
      "<xarray.Dataset> Size: 13MB\n",
      "Dimensions:      (longitude: 288, latitude: 144, depth: 20, t: 1,\n",
      "                  longitude_1: 288, latitude_1: 143)\n",
      "Coordinates:\n",
      "  * longitude    (longitude) float32 1kB 0.0 1.25 2.5 3.75 ... 356.2 357.5 358.8\n",
      "  * latitude     (latitude) float32 576B -89.38 -88.12 -86.88 ... 88.12 89.38\n",
      "  * depth        (depth) float32 80B 5.0 15.0 25.0 ... 4.577e+03 5.192e+03\n",
      "  * t            (t) object 8B 1920-04-16 00:00:00\n",
      "  * longitude_1  (longitude_1) float32 1kB 0.625 1.875 3.125 ... 358.1 359.4\n",
      "  * latitude_1   (latitude_1) float32 572B -88.75 -87.5 -86.25 ... 87.5 88.75\n",
      "Data variables:\n",
      "    temp         (t, depth, latitude, longitude) float32 3MB ...\n",
      "    salinity     (t, depth, latitude, longitude) float32 3MB ...\n",
      "    ucurr        (t, depth, latitude_1, longitude_1) float32 3MB ...\n",
      "    vcurr        (t, depth, latitude_1, longitude_1) float32 3MB ...\n",
      "Attributes:\n",
      "    history:      Tue Sep 12 11:49:35 BST 2006 - CONVSH V1.91 16-February-2006\n",
      "    Conventions:  CF-1.0\n"
     ]
    }
   ],
   "source": [
    "import xarray as xr\n",
    "\n",
    "ds = xr.open_dataset(\"../data/xbhubo.pgc0apr.nc\")\n",
    "print(ds)"
   ]
  },
  {
   "cell_type": "markdown",
   "id": "0a21a6b9-ebae-47fa-940b-3b7f92d3ad2b",
   "metadata": {
    "editable": true,
    "slideshow": {
     "slide_type": ""
    },
    "tags": []
   },
   "source": [
    "Q2. Select a subset of the `temperature` array using label-based indexing to get data at the position [0,0,0]."
   ]
  },
  {
   "cell_type": "code",
   "execution_count": 6,
   "id": "d0818a4f-7255-4b90-9cb5-c8e1810cd7e3",
   "metadata": {
    "editable": true,
    "slideshow": {
     "slide_type": ""
    },
    "tags": [
     "clear_answer_cell"
    ]
   },
   "outputs": [
    {
     "name": "stdout",
     "output_type": "stream",
     "text": [
      "<xarray.DataArray 'temp' (t: 1)> Size: 4B\n",
      "[1 values with dtype=float32]\n",
      "Coordinates:\n",
      "    longitude  float32 4B 0.0\n",
      "    latitude   float32 4B -89.38\n",
      "    depth      float32 4B 5.0\n",
      "  * t          (t) object 8B 1920-04-16 00:00:00\n",
      "Attributes:\n",
      "    source:     Unified Model Output:\n",
      "    name:       temp\n",
      "    title:      POTENTIAL TEMPERATURE (OCEAN)  DEG.C\n",
      "    date:       01/12/99\n",
      "    time:       00:00\n",
      "    long_name:  POTENTIAL TEMPERATURE (OCEAN)  DEG.C\n",
      "    units:      degC\n",
      "    valid_min:  -1.7999878\n",
      "    valid_max:  35.0495\n"
     ]
    }
   ],
   "source": [
    "temperature = ds[\"temp\"]\n",
    "print(temperature[:,0,0,0])"
   ]
  },
  {
   "cell_type": "markdown",
   "id": "b706418f-ed69-4d32-8a2c-b9fd6accf9b6",
   "metadata": {
    "editable": true,
    "slideshow": {
     "slide_type": ""
    },
    "tags": []
   },
   "source": [
    "Q3. Use `.loc` to find the temperature 5 meters below the sea surface in south atlantic where latitiude is -50.625 and longitude is 0."
   ]
  },
  {
   "cell_type": "code",
   "execution_count": 8,
   "id": "84ef9cec-9839-41fe-98e7-caaeb6e6e147",
   "metadata": {
    "editable": true,
    "slideshow": {
     "slide_type": ""
    },
    "tags": [
     "clear_answer_cell"
    ]
   },
   "outputs": [
    {
     "data": {
      "text/plain": [
       "array([6.090851], dtype=float32)"
      ]
     },
     "execution_count": 8,
     "metadata": {},
     "output_type": "execute_result"
    }
   ],
   "source": [
    "temperature.loc[:, '5.0', '-50.625', '0.0'].values"
   ]
  },
  {
   "cell_type": "markdown",
   "id": "09285680-d82a-44c7-b40a-092a47b568e9",
   "metadata": {
    "editable": true,
    "slideshow": {
     "slide_type": ""
    },
    "tags": []
   },
   "source": [
    "Q4. It's not ideal to have to keep track of which dimension is in which position. Instead, use `.isel` to use the dimension names to get the data in the same place: this is depth position 0, latitude position 31 and longitude position 0."
   ]
  },
  {
   "cell_type": "code",
   "execution_count": 4,
   "id": "41ce3da8-ab39-4e62-b1f6-e27b13527f42",
   "metadata": {
    "editable": true,
    "execution": {
     "iopub.execute_input": "2024-11-08T14:55:33.525735Z",
     "iopub.status.busy": "2024-11-08T14:55:33.525438Z",
     "iopub.status.idle": "2024-11-08T14:55:33.536074Z",
     "shell.execute_reply": "2024-11-08T14:55:33.535518Z"
    },
    "scrolled": true,
    "slideshow": {
     "slide_type": ""
    },
    "tags": [
     "clear_answer_cell"
    ]
   },
   "outputs": [],
   "source": []
  },
  {
   "cell_type": "markdown",
   "id": "422eddac-26f7-4c9b-b6ad-4e7386117b25",
   "metadata": {
    "editable": true,
    "slideshow": {
     "slide_type": ""
    },
    "tags": []
   },
   "source": [
    "Q5. The previous method is still referring to a selection by integer position. Use `.sel` to give a labelled index with the named dimension to find the data at `time=2065-12-30`, `lat=-78.5`, `lon=11.0`."
   ]
  },
  {
   "cell_type": "code",
   "execution_count": 5,
   "id": "09dac653-01d8-4e60-9444-42ef7743cf99",
   "metadata": {
    "editable": true,
    "execution": {
     "iopub.execute_input": "2024-11-08T14:55:33.538580Z",
     "iopub.status.busy": "2024-11-08T14:55:33.538287Z",
     "iopub.status.idle": "2024-11-08T14:55:33.550492Z",
     "shell.execute_reply": "2024-11-08T14:55:33.549854Z"
    },
    "slideshow": {
     "slide_type": ""
    },
    "tags": [
     "clear_answer_cell"
    ]
   },
   "outputs": [],
   "source": []
  }
 ],
 "metadata": {
  "kernelspec": {
   "display_name": "Python 3 + Jaspy",
   "language": "python",
   "name": "jaspy"
  },
  "language_info": {
   "codemirror_mode": {
    "name": "ipython",
    "version": 3
   },
   "file_extension": ".py",
   "mimetype": "text/x-python",
   "name": "python",
   "nbconvert_exporter": "python",
   "pygments_lexer": "ipython3",
   "version": "3.11.9"
  }
 },
 "nbformat": 4,
 "nbformat_minor": 5
}
