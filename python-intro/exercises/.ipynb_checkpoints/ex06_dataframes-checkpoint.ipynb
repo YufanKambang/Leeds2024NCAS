{
 "cells": [
  {
   "cell_type": "markdown",
   "id": "a0d752e8-9ce7-408f-96b3-a9748acecb26",
   "metadata": {
    "editable": true,
    "slideshow": {
     "slide_type": ""
    },
    "tags": []
   },
   "source": [
    "# Exercise 6: Reading Tabular Data into DataFrames"
   ]
  },
  {
   "cell_type": "markdown",
   "id": "3f4321ca-6c64-4170-b617-d93690ac533f",
   "metadata": {},
   "source": [
    "## Aim: Learn what DataFrames are and practice using them."
   ]
  },
  {
   "cell_type": "markdown",
   "id": "c4d9ad99-28ad-49ed-8318-58e2bc3d519f",
   "metadata": {},
   "source": [
    "### Issues covered:\n",
    "- Importing the `pandas` library\n",
    "- Using `pandas` to load a simple CSV data set\n",
    "- Get information about the DataFrames we make"
   ]
  },
  {
   "cell_type": "markdown",
   "id": "d1b64853-3332-482a-b1b0-08a686a45386",
   "metadata": {},
   "source": [
    "## 1. Let's import `pandas` and make some DataFrames."
   ]
  },
  {
   "cell_type": "markdown",
   "id": "577d413a-d2c3-4d3a-b8c7-bb87834e34b4",
   "metadata": {
    "editable": true,
    "slideshow": {
     "slide_type": ""
    },
    "tags": []
   },
   "source": [
    "Import `pandas`, then create a dataframe using the `data/weather.csv` file and print it out."
   ]
  },
  {
   "cell_type": "code",
   "execution_count": 1,
   "id": "507ca506-e488-4a7e-88f7-25a2aa4cfaae",
   "metadata": {
    "editable": true,
    "slideshow": {
     "slide_type": ""
    },
    "tags": [
     "clear_answer_cell"
    ]
   },
   "outputs": [
    {
     "name": "stdout",
     "output_type": "stream",
     "text": [
      "         Date   Time  Temp  Rainfall\n",
      "0  2014-01-01  00:00  2.34      4.45\n",
      "1  2014-01-01  12:00  6.70      8.34\n",
      "2  2014-01-02  00:00 -1.34     10.25\n"
     ]
    }
   ],
   "source": [
    "import pandas as pd\n",
    "weather_df = pd.read_csv(\"../data/weather.csv\")\n",
    "print(weather_df)"
   ]
  },
  {
   "cell_type": "markdown",
   "id": "20a8d403-57a6-40de-aed0-23080192918a",
   "metadata": {
    "editable": true,
    "slideshow": {
     "slide_type": ""
    },
    "tags": []
   },
   "source": [
    "Create a new dataframe which indexes by `Date` and print it."
   ]
  },
  {
   "cell_type": "code",
   "execution_count": 2,
   "id": "355a9346-ee50-403e-8c5c-0996a6e2be4e",
   "metadata": {
    "editable": true,
    "slideshow": {
     "slide_type": ""
    },
    "tags": [
     "clear_answer_cell"
    ]
   },
   "outputs": [
    {
     "name": "stdout",
     "output_type": "stream",
     "text": [
      "             Time  Temp  Rainfall\n",
      "Date                             \n",
      "2014-01-01  00:00  2.34      4.45\n",
      "2014-01-01  12:00  6.70      8.34\n",
      "2014-01-02  00:00 -1.34     10.25\n"
     ]
    }
   ],
   "source": [
    "date_weather_df = pd.read_csv(\"../data/weather.csv\", index_col=\"Date\")\n",
    "print(date_weather_df)"
   ]
  },
  {
   "cell_type": "markdown",
   "id": "e4af1af5-eec2-4d74-90a2-e93fcacbba39",
   "metadata": {},
   "source": [
    "## 2. Let's practice using some dataframe methods."
   ]
  },
  {
   "cell_type": "markdown",
   "id": "cf3f4d2e-5bc5-480b-a5e9-f37453ef597f",
   "metadata": {
    "editable": true,
    "slideshow": {
     "slide_type": ""
    },
    "tags": []
   },
   "source": [
    "What is the memory usage of the dataframe in bytes?"
   ]
  },
  {
   "cell_type": "code",
   "execution_count": 3,
   "id": "61051add-b15d-429a-a74b-292681e36bac",
   "metadata": {
    "editable": true,
    "slideshow": {
     "slide_type": ""
    },
    "tags": [
     "clear_answer_cell"
    ]
   },
   "outputs": [
    {
     "name": "stdout",
     "output_type": "stream",
     "text": [
      "data frame of weather.csv, below:\n",
      "\n",
      "<class 'pandas.core.frame.DataFrame'>\n",
      "RangeIndex: 3 entries, 0 to 2\n",
      "Data columns (total 4 columns):\n",
      " #   Column    Non-Null Count  Dtype  \n",
      "---  ------    --------------  -----  \n",
      " 0   Date      3 non-null      object \n",
      " 1   Time      3 non-null      object \n",
      " 2   Temp      3 non-null      float64\n",
      " 3   Rainfall  3 non-null      float64\n",
      "dtypes: float64(2), object(2)\n",
      "memory usage: 228.0+ bytes\n",
      "\n",
      "data frame with data as index, below:\n",
      "\n",
      "<class 'pandas.core.frame.DataFrame'>\n",
      "Index: 3 entries, 2014-01-01 to 2014-01-02\n",
      "Data columns (total 3 columns):\n",
      " #   Column    Non-Null Count  Dtype  \n",
      "---  ------    --------------  -----  \n",
      " 0   Time      3 non-null      object \n",
      " 1   Temp      3 non-null      float64\n",
      " 2   Rainfall  3 non-null      float64\n",
      "dtypes: float64(2), object(1)\n",
      "memory usage: 96.0+ bytes\n"
     ]
    }
   ],
   "source": [
    "print('data frame of weather.csv, below:\\n')\n",
    "weather_df.info()\n",
    "print('\\n'+'data frame with data as index, below:\\n')\n",
    "date_weather_df.info()"
   ]
  },
  {
   "cell_type": "markdown",
   "id": "6b85f457-b243-47b8-a996-ac7e5c5750ab",
   "metadata": {},
   "source": [
    "What command can you use to find the dataframe's column names?"
   ]
  },
  {
   "cell_type": "code",
   "execution_count": 11,
   "id": "258e77ea-532c-4b27-9682-2eb995d9952d",
   "metadata": {
    "editable": true,
    "slideshow": {
     "slide_type": ""
    },
    "tags": [
     "clear_answer_cell"
    ]
   },
   "outputs": [
    {
     "name": "stdout",
     "output_type": "stream",
     "text": [
      "Index(['Date\\n', 'Time\\n', 'Temp\\n', 'Rainfall\\n'], dtype='object')\n"
     ]
    }
   ],
   "source": [
    "weather_df_column = weather_df.columns\n",
    "print(weather_df_column+'\\n')"
   ]
  },
  {
   "cell_type": "markdown",
   "id": "69428372-654c-467e-87a1-6b5b0e5d7d09",
   "metadata": {},
   "source": [
    "Swap the rows and columns and `print` the result."
   ]
  },
  {
   "cell_type": "code",
   "execution_count": 19,
   "id": "8c013233-5e0e-443c-a996-434e5c1d85c8",
   "metadata": {
    "editable": true,
    "slideshow": {
     "slide_type": ""
    },
    "tags": [
     "clear_answer_cell"
    ]
   },
   "outputs": [
    {
     "name": "stdout",
     "output_type": "stream",
     "text": [
      "Date     2014-01-01 2014-01-01 2014-01-02\n",
      "Time          00:00      12:00      00:00\n",
      "Temp           2.34        6.7      -1.34\n",
      "Rainfall       4.45       8.34      10.25\n"
     ]
    }
   ],
   "source": [
    "tdw_df = date_weather_df.transpose()\n",
    "print(tdw_df)"
   ]
  },
  {
   "cell_type": "markdown",
   "id": "2200f4b4-ac33-42ad-9558-40395f921eaf",
   "metadata": {},
   "source": [
    "Find the mean and standard deviation of the weather data."
   ]
  },
  {
   "cell_type": "code",
   "execution_count": 38,
   "id": "38848201-e994-4427-81fb-23e08cac9b60",
   "metadata": {
    "editable": true,
    "slideshow": {
     "slide_type": ""
    },
    "tags": [
     "clear_answer_cell"
    ]
   },
   "outputs": [
    {
     "name": "stdout",
     "output_type": "stream",
     "text": [
      "             Time  Temp  Rainfall\n",
      "Date                             \n",
      "2014-01-01  00:00  2.34      4.45\n",
      "2014-01-01  12:00  6.70      8.34\n",
      "2014-01-02  00:00 -1.34     10.25\n",
      "            Temp  Rainfall\n",
      "Date                      \n",
      "2014-01-01  2.34      4.45\n",
      "2014-01-01  6.70      8.34\n",
      "2014-01-02 -1.34     10.25\n",
      "Temp        4.024790\n",
      "Rainfall    2.955791\n",
      "dtype: float64\n"
     ]
    }
   ],
   "source": [
    "print(date_weather_df)\n",
    "tempa = date_weather_df[[\"Temp\", \"Rainfall\"]]\n",
    "print(tempa)\n",
    "print(tempa.std())"
   ]
  },
  {
   "cell_type": "markdown",
   "id": "a2451284-57f1-4638-886a-73de3e6256f6",
   "metadata": {},
   "source": [
    "## 3. Extension: Some Dataframe Challenges"
   ]
  },
  {
   "cell_type": "markdown",
   "id": "357f28d8-74d3-49c8-a862-13ee57459755",
   "metadata": {},
   "source": [
    "1. Find the first three rows of data in `data/americas_gdp.csv` using `head()`."
   ]
  },
  {
   "cell_type": "code",
   "execution_count": 41,
   "id": "62eaf73a-acdc-4eb0-89d1-ef1fffd0640c",
   "metadata": {
    "editable": true,
    "slideshow": {
     "slide_type": ""
    },
    "tags": [
     "clear_answer_cell"
    ]
   },
   "outputs": [
    {
     "data": {
      "text/html": [
       "<div>\n",
       "<style scoped>\n",
       "    .dataframe tbody tr th:only-of-type {\n",
       "        vertical-align: middle;\n",
       "    }\n",
       "\n",
       "    .dataframe tbody tr th {\n",
       "        vertical-align: top;\n",
       "    }\n",
       "\n",
       "    .dataframe thead th {\n",
       "        text-align: right;\n",
       "    }\n",
       "</style>\n",
       "<table border=\"1\" class=\"dataframe\">\n",
       "  <thead>\n",
       "    <tr style=\"text-align: right;\">\n",
       "      <th></th>\n",
       "      <th>continent</th>\n",
       "      <th>country</th>\n",
       "      <th>gdpPercap_1952</th>\n",
       "      <th>gdpPercap_1957</th>\n",
       "      <th>gdpPercap_1962</th>\n",
       "      <th>gdpPercap_1967</th>\n",
       "      <th>gdpPercap_1972</th>\n",
       "      <th>gdpPercap_1977</th>\n",
       "      <th>gdpPercap_1982</th>\n",
       "      <th>gdpPercap_1987</th>\n",
       "      <th>gdpPercap_1992</th>\n",
       "      <th>gdpPercap_1997</th>\n",
       "      <th>gdpPercap_2002</th>\n",
       "      <th>gdpPercap_2007</th>\n",
       "    </tr>\n",
       "  </thead>\n",
       "  <tbody>\n",
       "    <tr>\n",
       "      <th>0</th>\n",
       "      <td>Americas</td>\n",
       "      <td>Argentina</td>\n",
       "      <td>5911.315053</td>\n",
       "      <td>6856.856212</td>\n",
       "      <td>7133.166023</td>\n",
       "      <td>8052.953021</td>\n",
       "      <td>9443.038526</td>\n",
       "      <td>10079.026740</td>\n",
       "      <td>8997.897412</td>\n",
       "      <td>9139.671389</td>\n",
       "      <td>9308.418710</td>\n",
       "      <td>10967.281950</td>\n",
       "      <td>8797.640716</td>\n",
       "      <td>12779.379640</td>\n",
       "    </tr>\n",
       "    <tr>\n",
       "      <th>1</th>\n",
       "      <td>Americas</td>\n",
       "      <td>Bolivia</td>\n",
       "      <td>2677.326347</td>\n",
       "      <td>2127.686326</td>\n",
       "      <td>2180.972546</td>\n",
       "      <td>2586.886053</td>\n",
       "      <td>2980.331339</td>\n",
       "      <td>3548.097832</td>\n",
       "      <td>3156.510452</td>\n",
       "      <td>2753.691490</td>\n",
       "      <td>2961.699694</td>\n",
       "      <td>3326.143191</td>\n",
       "      <td>3413.262690</td>\n",
       "      <td>3822.137084</td>\n",
       "    </tr>\n",
       "    <tr>\n",
       "      <th>2</th>\n",
       "      <td>Americas</td>\n",
       "      <td>Brazil</td>\n",
       "      <td>2108.944355</td>\n",
       "      <td>2487.365989</td>\n",
       "      <td>3336.585802</td>\n",
       "      <td>3429.864357</td>\n",
       "      <td>4985.711467</td>\n",
       "      <td>6660.118654</td>\n",
       "      <td>7030.835878</td>\n",
       "      <td>7807.095818</td>\n",
       "      <td>6950.283021</td>\n",
       "      <td>7957.980824</td>\n",
       "      <td>8131.212843</td>\n",
       "      <td>9065.800825</td>\n",
       "    </tr>\n",
       "  </tbody>\n",
       "</table>\n",
       "</div>"
      ],
      "text/plain": [
       "  continent    country  gdpPercap_1952  gdpPercap_1957  gdpPercap_1962  \\\n",
       "0  Americas  Argentina     5911.315053     6856.856212     7133.166023   \n",
       "1  Americas    Bolivia     2677.326347     2127.686326     2180.972546   \n",
       "2  Americas     Brazil     2108.944355     2487.365989     3336.585802   \n",
       "\n",
       "   gdpPercap_1967  gdpPercap_1972  gdpPercap_1977  gdpPercap_1982  \\\n",
       "0     8052.953021     9443.038526    10079.026740     8997.897412   \n",
       "1     2586.886053     2980.331339     3548.097832     3156.510452   \n",
       "2     3429.864357     4985.711467     6660.118654     7030.835878   \n",
       "\n",
       "   gdpPercap_1987  gdpPercap_1992  gdpPercap_1997  gdpPercap_2002  \\\n",
       "0     9139.671389     9308.418710    10967.281950     8797.640716   \n",
       "1     2753.691490     2961.699694     3326.143191     3413.262690   \n",
       "2     7807.095818     6950.283021     7957.980824     8131.212843   \n",
       "\n",
       "   gdpPercap_2007  \n",
       "0    12779.379640  \n",
       "1     3822.137084  \n",
       "2     9065.800825  "
      ]
     },
     "execution_count": 41,
     "metadata": {},
     "output_type": "execute_result"
    }
   ],
   "source": [
    "import pandas as pd\n",
    "usa = pd.read_csv('../data/americas_gdp.csv')\n",
    "usa.head(3)"
   ]
  },
  {
   "cell_type": "markdown",
   "id": "dcff88d3-f459-4139-abc0-3d87a3a9fbd2",
   "metadata": {},
   "source": [
    "2. Find the last 3 **columns** of data."
   ]
  },
  {
   "cell_type": "markdown",
   "id": "82c90192-74f7-4064-993b-f650108f81ea",
   "metadata": {},
   "source": [
    "_Hint: You may need to change your view of the data then you can use `tail()`._"
   ]
  },
  {
   "cell_type": "code",
   "execution_count": 43,
   "id": "aeeed721-06b5-4bf9-8f7b-326c52e8d23a",
   "metadata": {
    "editable": true,
    "slideshow": {
     "slide_type": ""
    },
    "tags": [
     "clear_answer_cell"
    ]
   },
   "outputs": [
    {
     "data": {
      "text/html": [
       "<div>\n",
       "<style scoped>\n",
       "    .dataframe tbody tr th:only-of-type {\n",
       "        vertical-align: middle;\n",
       "    }\n",
       "\n",
       "    .dataframe tbody tr th {\n",
       "        vertical-align: top;\n",
       "    }\n",
       "\n",
       "    .dataframe thead th {\n",
       "        text-align: right;\n",
       "    }\n",
       "</style>\n",
       "<table border=\"1\" class=\"dataframe\">\n",
       "  <thead>\n",
       "    <tr style=\"text-align: right;\">\n",
       "      <th></th>\n",
       "      <th>continent</th>\n",
       "      <th>country</th>\n",
       "      <th>gdpPercap_1952</th>\n",
       "      <th>gdpPercap_1957</th>\n",
       "      <th>gdpPercap_1962</th>\n",
       "      <th>gdpPercap_1967</th>\n",
       "      <th>gdpPercap_1972</th>\n",
       "      <th>gdpPercap_1977</th>\n",
       "      <th>gdpPercap_1982</th>\n",
       "      <th>gdpPercap_1987</th>\n",
       "      <th>gdpPercap_1992</th>\n",
       "      <th>gdpPercap_1997</th>\n",
       "      <th>gdpPercap_2002</th>\n",
       "      <th>gdpPercap_2007</th>\n",
       "    </tr>\n",
       "  </thead>\n",
       "  <tbody>\n",
       "    <tr>\n",
       "      <th>22</th>\n",
       "      <td>Americas</td>\n",
       "      <td>United States</td>\n",
       "      <td>13990.482080</td>\n",
       "      <td>14847.127120</td>\n",
       "      <td>16173.145860</td>\n",
       "      <td>19530.365570</td>\n",
       "      <td>21806.035940</td>\n",
       "      <td>24072.632130</td>\n",
       "      <td>25009.559140</td>\n",
       "      <td>29884.350410</td>\n",
       "      <td>32003.932240</td>\n",
       "      <td>35767.433030</td>\n",
       "      <td>39097.099550</td>\n",
       "      <td>42951.65309</td>\n",
       "    </tr>\n",
       "    <tr>\n",
       "      <th>23</th>\n",
       "      <td>Americas</td>\n",
       "      <td>Uruguay</td>\n",
       "      <td>5716.766744</td>\n",
       "      <td>6150.772969</td>\n",
       "      <td>5603.357717</td>\n",
       "      <td>5444.619620</td>\n",
       "      <td>5703.408898</td>\n",
       "      <td>6504.339663</td>\n",
       "      <td>6920.223051</td>\n",
       "      <td>7452.398969</td>\n",
       "      <td>8137.004775</td>\n",
       "      <td>9230.240708</td>\n",
       "      <td>7727.002004</td>\n",
       "      <td>10611.46299</td>\n",
       "    </tr>\n",
       "    <tr>\n",
       "      <th>24</th>\n",
       "      <td>Americas</td>\n",
       "      <td>Venezuela</td>\n",
       "      <td>7689.799761</td>\n",
       "      <td>9802.466526</td>\n",
       "      <td>8422.974165</td>\n",
       "      <td>9541.474188</td>\n",
       "      <td>10505.259660</td>\n",
       "      <td>13143.950950</td>\n",
       "      <td>11152.410110</td>\n",
       "      <td>9883.584648</td>\n",
       "      <td>10733.926310</td>\n",
       "      <td>10165.495180</td>\n",
       "      <td>8605.047831</td>\n",
       "      <td>11415.80569</td>\n",
       "    </tr>\n",
       "  </tbody>\n",
       "</table>\n",
       "</div>"
      ],
      "text/plain": [
       "   continent        country  gdpPercap_1952  gdpPercap_1957  gdpPercap_1962  \\\n",
       "22  Americas  United States    13990.482080    14847.127120    16173.145860   \n",
       "23  Americas        Uruguay     5716.766744     6150.772969     5603.357717   \n",
       "24  Americas      Venezuela     7689.799761     9802.466526     8422.974165   \n",
       "\n",
       "    gdpPercap_1967  gdpPercap_1972  gdpPercap_1977  gdpPercap_1982  \\\n",
       "22    19530.365570    21806.035940    24072.632130    25009.559140   \n",
       "23     5444.619620     5703.408898     6504.339663     6920.223051   \n",
       "24     9541.474188    10505.259660    13143.950950    11152.410110   \n",
       "\n",
       "    gdpPercap_1987  gdpPercap_1992  gdpPercap_1997  gdpPercap_2002  \\\n",
       "22    29884.350410    32003.932240    35767.433030    39097.099550   \n",
       "23     7452.398969     8137.004775     9230.240708     7727.002004   \n",
       "24     9883.584648    10733.926310    10165.495180     8605.047831   \n",
       "\n",
       "    gdpPercap_2007  \n",
       "22     42951.65309  \n",
       "23     10611.46299  \n",
       "24     11415.80569  "
      ]
     },
     "execution_count": 43,
     "metadata": {},
     "output_type": "execute_result"
    }
   ],
   "source": [
    "usa.tail(3)"
   ]
  },
  {
   "cell_type": "markdown",
   "id": "3191ea41-a5c3-491b-95f4-3834376d692d",
   "metadata": {},
   "source": [
    "3. Use `help(data_americas.to_csv)` to figure out how writing to a CSV file works."
   ]
  },
  {
   "cell_type": "code",
   "execution_count": 1,
   "id": "845a8b2a-99fb-4a84-bc5d-9570ceab556e",
   "metadata": {
    "editable": true,
    "slideshow": {
     "slide_type": ""
    },
    "tags": [
     "clear_answer_cell"
    ]
   },
   "outputs": [],
   "source": [
    "#help(usa.to_csv)"
   ]
  },
  {
   "cell_type": "markdown",
   "id": "150e4bb5-39d5-4b8a-a366-b5a1a75ac3ad",
   "metadata": {},
   "source": [
    "4. Try writing to a CSV file using the code below (giving your own filename). Take a look in the data folder and check it's there.\n",
    "```\n",
    "data_americas.to_csv('data/new_file_name.csv')\n",
    "```"
   ]
  },
  {
   "cell_type": "code",
   "execution_count": 47,
   "id": "484efc19-edc1-4019-82d0-05a86db786a6",
   "metadata": {
    "editable": true,
    "slideshow": {
     "slide_type": ""
    },
    "tags": [
     "clear_answer_cell"
    ]
   },
   "outputs": [],
   "source": [
    "usa.to_csv(\"../data/new_file_name.csv\")"
   ]
  },
  {
   "cell_type": "code",
   "execution_count": null,
   "id": "e9130961-c808-4e28-acb0-a2ca2914c717",
   "metadata": {},
   "outputs": [],
   "source": []
  }
 ],
 "metadata": {
  "kernelspec": {
   "display_name": "Python 3 + Jaspy",
   "language": "python",
   "name": "jaspy"
  },
  "language_info": {
   "codemirror_mode": {
    "name": "ipython",
    "version": 3
   },
   "file_extension": ".py",
   "mimetype": "text/x-python",
   "name": "python",
   "nbconvert_exporter": "python",
   "pygments_lexer": "ipython3",
   "version": "3.11.9"
  }
 },
 "nbformat": 4,
 "nbformat_minor": 5
}
