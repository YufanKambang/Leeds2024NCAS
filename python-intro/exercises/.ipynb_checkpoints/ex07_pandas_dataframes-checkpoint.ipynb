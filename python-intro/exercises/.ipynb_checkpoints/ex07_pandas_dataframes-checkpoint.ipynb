{
 "cells": [
  {
   "cell_type": "markdown",
   "id": "32b13a1c-f1dd-455c-841a-ee51f2921d0a",
   "metadata": {
    "editable": true,
    "slideshow": {
     "slide_type": ""
    },
    "tags": []
   },
   "source": [
    "# Exercise 7: More About Pandas DataFrames"
   ]
  },
  {
   "cell_type": "markdown",
   "id": "797afb91-5e95-4bc7-b766-5264341acc8d",
   "metadata": {},
   "source": [
    "## Aim: Learn how to select certain data from a `Pandas` DataFrame."
   ]
  },
  {
   "cell_type": "markdown",
   "id": "8d617a75-0aed-42a5-b48a-5859a06aa5e2",
   "metadata": {},
   "source": [
    "### Issues covered:\n",
    "- Using `loc` and `iloc` to locate data in a dataframe\n",
    "- Slicing dataframes\n",
    "- Creating subsets and masks"
   ]
  },
  {
   "cell_type": "markdown",
   "id": "79d3722b-6d3e-4c81-85b1-367e09372551",
   "metadata": {},
   "source": [
    "## 1. Using `loc` and `iloc`"
   ]
  },
  {
   "cell_type": "markdown",
   "id": "2ffdcbe9-f516-4bd4-8022-f26c7a11dbfb",
   "metadata": {},
   "source": [
    "Create a dataframe called `data` from the CSV file `data/europe_gdp.csv` and index it by the `country` column."
   ]
  },
  {
   "cell_type": "code",
   "execution_count": 10,
   "id": "8bc94c29-5257-4c6c-b7e4-0d4c0857be5b",
   "metadata": {
    "editable": true,
    "slideshow": {
     "slide_type": ""
    },
    "tags": [
     "clear_answer_cell"
    ]
   },
   "outputs": [
    {
     "name": "stdout",
     "output_type": "stream",
     "text": [
      "<class 'pandas.core.frame.DataFrame'>\n",
      "Index: 30 entries, Albania to United Kingdom\n",
      "Data columns (total 12 columns):\n",
      " #   Column          Non-Null Count  Dtype  \n",
      "---  ------          --------------  -----  \n",
      " 0   gdpPercap_1952  30 non-null     float64\n",
      " 1   gdpPercap_1957  30 non-null     float64\n",
      " 2   gdpPercap_1962  30 non-null     float64\n",
      " 3   gdpPercap_1967  30 non-null     float64\n",
      " 4   gdpPercap_1972  30 non-null     float64\n",
      " 5   gdpPercap_1977  30 non-null     float64\n",
      " 6   gdpPercap_1982  30 non-null     float64\n",
      " 7   gdpPercap_1987  30 non-null     float64\n",
      " 8   gdpPercap_1992  30 non-null     float64\n",
      " 9   gdpPercap_1997  30 non-null     float64\n",
      " 10  gdpPercap_2002  30 non-null     float64\n",
      " 11  gdpPercap_2007  30 non-null     float64\n",
      "dtypes: float64(12)\n",
      "memory usage: 3.0+ KB\n"
     ]
    }
   ],
   "source": [
    "import pandas as pd\n",
    "\n",
    "data = pd.read_csv('../data/europe_gdp.csv', index_col='country')\n",
    "data.info()\n",
    "#print(data)"
   ]
  },
  {
   "cell_type": "markdown",
   "id": "4484598d-c091-4af8-b04e-ac6b6583cee8",
   "metadata": {},
   "source": [
    "Print out the GDP per capita for Belgium in 1957 (2nd column, 3rd row) using `iloc`."
   ]
  },
  {
   "cell_type": "markdown",
   "id": "58f9ebf2-2d9e-43ba-9411-072e4385bc5a",
   "metadata": {},
   "source": [
    "_Hint: Remember that indexing starts from 0 in Python. You should get the value `9714.960623`._"
   ]
  },
  {
   "cell_type": "code",
   "execution_count": 16,
   "id": "8ea44ab4-2cd7-4dc8-b223-74e3809175d8",
   "metadata": {
    "editable": true,
    "slideshow": {
     "slide_type": ""
    },
    "tags": [
     "clear_answer_cell"
    ]
   },
   "outputs": [
    {
     "name": "stdout",
     "output_type": "stream",
     "text": [
      "9714.960623\n"
     ]
    }
   ],
   "source": [
    "#print(data)\n",
    "print(data.iloc[2, 1])"
   ]
  },
  {
   "cell_type": "markdown",
   "id": "1349050b-7b24-4b9c-8001-efe7ded1b873",
   "metadata": {},
   "source": [
    "Use `loc` to print out GDP per capita for Belgium in 1957. You should get the same result as above."
   ]
  },
  {
   "cell_type": "code",
   "execution_count": 32,
   "id": "9a4e29b2-2be5-49c0-9be6-7ff154fc4797",
   "metadata": {
    "editable": true,
    "slideshow": {
     "slide_type": ""
    },
    "tags": [
     "clear_answer_cell"
    ]
   },
   "outputs": [
    {
     "name": "stdout",
     "output_type": "stream",
     "text": [
      "9714.960623\n"
     ]
    }
   ],
   "source": [
    "print(data.loc['Belgium','gdpPercap_1957'])"
   ]
  },
  {
   "cell_type": "markdown",
   "id": "967768f6-30b7-40f4-b15f-c6196e3fb462",
   "metadata": {},
   "source": [
    "Print GDP per capita for `Switzerland` for all years using `:`."
   ]
  },
  {
   "cell_type": "code",
   "execution_count": 34,
   "id": "a02c5488-2dda-4c6d-ae72-5894aba452c5",
   "metadata": {
    "editable": true,
    "slideshow": {
     "slide_type": ""
    },
    "tags": [
     "clear_answer_cell"
    ]
   },
   "outputs": [
    {
     "name": "stdout",
     "output_type": "stream",
     "text": [
      "gdpPercap_1952    14734.23275\n",
      "gdpPercap_1957    17909.48973\n",
      "gdpPercap_1962    20431.09270\n",
      "gdpPercap_1967    22966.14432\n",
      "gdpPercap_1972    27195.11304\n",
      "gdpPercap_1977    26982.29052\n",
      "gdpPercap_1982    28397.71512\n",
      "gdpPercap_1987    30281.70459\n",
      "gdpPercap_1992    31871.53030\n",
      "gdpPercap_1997    32135.32301\n",
      "gdpPercap_2002    34480.95771\n",
      "gdpPercap_2007    37506.41907\n",
      "Name: Switzerland, dtype: float64\n"
     ]
    }
   ],
   "source": [
    "print(data.loc['Switzerland',:])"
   ]
  },
  {
   "cell_type": "markdown",
   "id": "2297bf59-1726-40c1-a97f-9ec8818cbe7e",
   "metadata": {},
   "source": [
    "Print out GDP per capita in 1987 for all countries."
   ]
  },
  {
   "cell_type": "code",
   "execution_count": 35,
   "id": "f05af7ea-16f1-4d04-94b3-f093d424d4be",
   "metadata": {
    "editable": true,
    "slideshow": {
     "slide_type": ""
    },
    "tags": [
     "clear_answer_cell"
    ]
   },
   "outputs": [
    {
     "name": "stdout",
     "output_type": "stream",
     "text": [
      "country\n",
      "Albania                    3738.932735\n",
      "Austria                   23687.826070\n",
      "Belgium                   22525.563080\n",
      "Bosnia and Herzegovina     4314.114757\n",
      "Bulgaria                   8239.854824\n",
      "Croatia                   13822.583940\n",
      "Czech Republic            16310.443400\n",
      "Denmark                   25116.175810\n",
      "Finland                   21141.012230\n",
      "France                    22066.442140\n",
      "Germany                   24639.185660\n",
      "Greece                    16120.528390\n",
      "Hungary                   12986.479980\n",
      "Iceland                   26923.206280\n",
      "Ireland                   13872.866520\n",
      "Italy                     19207.234820\n",
      "Montenegro                11732.510170\n",
      "Netherlands               23651.323610\n",
      "Norway                    31540.974800\n",
      "Poland                     9082.351172\n",
      "Portugal                  13039.308760\n",
      "Romania                    9696.273295\n",
      "Serbia                    15870.878510\n",
      "Slovak Republic           12037.267580\n",
      "Slovenia                  18678.534920\n",
      "Spain                     15764.983130\n",
      "Sweden                    23586.929270\n",
      "Switzerland               30281.704590\n",
      "Turkey                     5089.043686\n",
      "United Kingdom            21664.787670\n",
      "Name: gdpPercap_1987, dtype: float64\n"
     ]
    }
   ],
   "source": [
    "print(data.loc[:,\"gdpPercap_1987\"])"
   ]
  },
  {
   "cell_type": "markdown",
   "id": "7433bb77-8c7a-431a-8ad6-8c513dc6a1e9",
   "metadata": {},
   "source": [
    "Print out a slice of the data frame which shows GDP for countries between Denmark to Iceland from 1982 to 1992. "
   ]
  },
  {
   "cell_type": "code",
   "execution_count": 36,
   "id": "82eec90b-0537-419e-9821-19a887db168c",
   "metadata": {
    "editable": true,
    "slideshow": {
     "slide_type": ""
    },
    "tags": [
     "clear_answer_cell"
    ]
   },
   "outputs": [
    {
     "name": "stdout",
     "output_type": "stream",
     "text": [
      "                        gdpPercap_1982  gdpPercap_1987  gdpPercap_1992\n",
      "country                                                               \n",
      "Belgium                   20979.845890    22525.563080    25575.570690\n",
      "Bosnia and Herzegovina     4126.613157     4314.114757     2546.781445\n",
      "Bulgaria                   8224.191647     8239.854824     6302.623438\n",
      "Croatia                   13221.821840    13822.583940     8447.794873\n",
      "Czech Republic            15377.228550    16310.443400    14297.021220\n",
      "Denmark                   21688.040480    25116.175810    26406.739850\n",
      "Finland                   18533.157610    21141.012230    20647.164990\n",
      "France                    20293.897460    22066.442140    24703.796150\n",
      "Germany                   22031.532740    24639.185660    26505.303170\n",
      "Greece                    15268.420890    16120.528390    17541.496340\n",
      "Hungary                   12545.990660    12986.479980    10535.628550\n",
      "Iceland                   23269.607500    26923.206280    25144.392010\n"
     ]
    }
   ],
   "source": [
    "print(data.loc['Belgium':'Iceland', 'gdpPercap_1982':'gdpPercap_1992'])"
   ]
  },
  {
   "cell_type": "markdown",
   "id": "d0a7041f-1496-4738-9765-26d8ffdb997a",
   "metadata": {},
   "source": [
    "Print out the last 3 columns for the last 3 rows of countries."
   ]
  },
  {
   "cell_type": "code",
   "execution_count": 38,
   "id": "8a524211-5370-425c-8a61-2da43a8142ec",
   "metadata": {
    "editable": true,
    "slideshow": {
     "slide_type": ""
    },
    "tags": [
     "clear_answer_cell"
    ]
   },
   "outputs": [
    {
     "name": "stdout",
     "output_type": "stream",
     "text": [
      "                gdpPercap_1997  gdpPercap_2002  gdpPercap_2007\n",
      "country                                                       \n",
      "Switzerland       32135.323010    34480.957710    37506.419070\n",
      "Turkey             6601.429915     6508.085718     8458.276384\n",
      "United Kingdom    26074.531360    29478.999190    33203.261280\n"
     ]
    }
   ],
   "source": [
    "print(data.iloc[-3:,-3:])"
   ]
  },
  {
   "cell_type": "markdown",
   "id": "85dd99ef-f3a2-4012-817d-319df3c5fea8",
   "metadata": {},
   "source": [
    "What are the maximum GDP values between 1997-2007 for the last 3 countries alphabetically? "
   ]
  },
  {
   "cell_type": "code",
   "execution_count": 40,
   "id": "c4c6cd1b-b83d-421f-b7e4-bcdf7d42fdda",
   "metadata": {
    "editable": true,
    "slideshow": {
     "slide_type": ""
    },
    "tags": [
     "clear_answer_cell"
    ]
   },
   "outputs": [
    {
     "name": "stdout",
     "output_type": "stream",
     "text": [
      "country\n",
      "Switzerland       37506.419070\n",
      "Turkey             8458.276384\n",
      "United Kingdom    33203.261280\n",
      "dtype: float64\n"
     ]
    }
   ],
   "source": [
    "print(data.iloc[-3:,-3:].T.max())"
   ]
  },
  {
   "cell_type": "markdown",
   "id": "d8ccfd82-f09b-40ae-84b4-bf3c578009d4",
   "metadata": {},
   "source": [
    "## 2. Creating subsets and masks"
   ]
  },
  {
   "cell_type": "markdown",
   "id": "88ae8007-52d2-41ee-b559-9b44571457d3",
   "metadata": {},
   "source": [
    "Create a variable called `subset` which contains only the data for Hungary to Netherlands between 1962 and 1972. Print out the subset."
   ]
  },
  {
   "cell_type": "code",
   "execution_count": 41,
   "id": "d97d35c2-d7f4-44df-986c-5aa79ffcf18c",
   "metadata": {
    "editable": true,
    "slideshow": {
     "slide_type": ""
    },
    "tags": [
     "clear_answer_cell"
    ]
   },
   "outputs": [
    {
     "name": "stdout",
     "output_type": "stream",
     "text": [
      "             gdpPercap_1962  gdpPercap_1967  gdpPercap_1972\n",
      "country                                                    \n",
      "Hungary         7550.359877     9326.644670    10168.656110\n",
      "Iceland        10350.159060    13319.895680    15798.063620\n",
      "Ireland         6631.597314     7655.568963     9530.772896\n",
      "Italy           8243.582340    10022.401310    12269.273780\n",
      "Montenegro      4649.593785     5907.850937     7778.414017\n",
      "Netherlands    12790.849560    15363.251360    18794.745670\n"
     ]
    }
   ],
   "source": [
    "subset = data.loc['Hungary':'Netherlands', 'gdpPercap_1962':'gdpPercap_1972']\n",
    "print(subset)"
   ]
  },
  {
   "cell_type": "markdown",
   "id": "f4c19abd-7571-452f-96cf-d23df1b1d193",
   "metadata": {},
   "source": [
    "Return a dataframe of boolean (`True` or `False`) values showing where the GDP values are greater than 10000. "
   ]
  },
  {
   "cell_type": "code",
   "execution_count": 42,
   "id": "a0e7a0a4-36bc-475a-bdd8-1741453fd535",
   "metadata": {
    "editable": true,
    "slideshow": {
     "slide_type": ""
    },
    "tags": [
     "clear_answer_cell"
    ]
   },
   "outputs": [
    {
     "name": "stdout",
     "output_type": "stream",
     "text": [
      "             gdpPercap_1962  gdpPercap_1967  gdpPercap_1972\n",
      "country                                                    \n",
      "Hungary               False           False            True\n",
      "Iceland                True            True            True\n",
      "Ireland               False           False           False\n",
      "Italy                 False            True            True\n",
      "Montenegro            False           False           False\n",
      "Netherlands            True            True            True\n"
     ]
    }
   ],
   "source": [
    "subset_bool = subset > 10000\n",
    "print(subset_bool)"
   ]
  },
  {
   "cell_type": "markdown",
   "id": "1a481d2b-d49e-4a20-af9c-fd312b5b8f3d",
   "metadata": {},
   "source": [
    "Create a boolean mask for the above and print the result of applying this to the subset."
   ]
  },
  {
   "cell_type": "code",
   "execution_count": 44,
   "id": "cecf6848-5ae4-4726-a393-4a94ec16c949",
   "metadata": {
    "editable": true,
    "slideshow": {
     "slide_type": ""
    },
    "tags": [
     "clear_answer_cell"
    ]
   },
   "outputs": [
    {
     "name": "stdout",
     "output_type": "stream",
     "text": [
      "             gdpPercap_1962  gdpPercap_1967  gdpPercap_1972\n",
      "country                                                    \n",
      "Hungary                 NaN             NaN     10168.65611\n",
      "Iceland         10350.15906     13319.89568     15798.06362\n",
      "Ireland                 NaN             NaN             NaN\n",
      "Italy                   NaN     10022.40131     12269.27378\n",
      "Montenegro              NaN             NaN             NaN\n",
      "Netherlands     12790.84956     15363.25136     18794.74567\n"
     ]
    }
   ],
   "source": [
    "print(subset[subset_bool])"
   ]
  },
  {
   "cell_type": "markdown",
   "id": "6a165f68-4ba4-4af9-8874-3b57a681491d",
   "metadata": {},
   "source": [
    "What is the mean and standard deviation of the mask applied to this subset?"
   ]
  },
  {
   "cell_type": "code",
   "execution_count": 51,
   "id": "7d39bf41-2d9a-4de4-b6e6-8d8c1af1e7b9",
   "metadata": {
    "editable": true,
    "slideshow": {
     "slide_type": ""
    },
    "tags": [
     "clear_answer_cell"
    ]
   },
   "outputs": [
    {
     "name": "stdout",
     "output_type": "stream",
     "text": [
      "gdpPercap_1962    11570.504310\n",
      "gdpPercap_1967    12901.849450\n",
      "gdpPercap_1972    14257.684795\n",
      "dtype: float64\n",
      "\n",
      "standard deviations:\n",
      "gdpPercap_1962    1725.828803\n",
      "gdpPercap_1967    2694.854690\n",
      "gdpPercap_1972    3813.643151\n",
      "dtype: float64\n"
     ]
    }
   ],
   "source": [
    "print(subset[subset_bool].mean())\n",
    "print(f\"\\nstandard deviations:\\n{subset[subset_bool].std()}\")"
   ]
  },
  {
   "cell_type": "markdown",
   "id": "8b51e7c6-32ae-410d-9a97-7133c985fbd5",
   "metadata": {},
   "source": [
    "## 3. Extension Questions"
   ]
  },
  {
   "cell_type": "markdown",
   "id": "12ca99b8-de0e-48ea-9821-2045f4762f11",
   "metadata": {},
   "source": [
    "1. Find the index of the maximum for each column of the dataset. "
   ]
  },
  {
   "cell_type": "markdown",
   "id": "dc95aba8-54e7-4e7b-8a2b-fe135af11f98",
   "metadata": {},
   "source": [
    "_Hint: You will need to make use of `idxmax()`._"
   ]
  },
  {
   "cell_type": "code",
   "execution_count": 53,
   "id": "9713081c-49e4-482a-9a69-ad8b3447111e",
   "metadata": {
    "editable": true,
    "slideshow": {
     "slide_type": ""
    },
    "tags": [
     "clear_answer_cell"
    ]
   },
   "outputs": [
    {
     "data": {
      "text/plain": [
       "gdpPercap_1952    Switzerland\n",
       "gdpPercap_1957    Switzerland\n",
       "gdpPercap_1962    Switzerland\n",
       "gdpPercap_1967    Switzerland\n",
       "gdpPercap_1972    Switzerland\n",
       "gdpPercap_1977    Switzerland\n",
       "gdpPercap_1982    Switzerland\n",
       "gdpPercap_1987         Norway\n",
       "gdpPercap_1992         Norway\n",
       "gdpPercap_1997         Norway\n",
       "gdpPercap_2002         Norway\n",
       "gdpPercap_2007         Norway\n",
       "dtype: object"
      ]
     },
     "execution_count": 53,
     "metadata": {},
     "output_type": "execute_result"
    }
   ],
   "source": [
    "data.idxmax()"
   ]
  },
  {
   "cell_type": "markdown",
   "id": "0ae616dd-09fd-4b72-9964-825b34c7995d",
   "metadata": {},
   "source": [
    "2. Similarly, find the index of the minimum for each column of the dataset."
   ]
  },
  {
   "cell_type": "markdown",
   "id": "7c4c39ff-f507-421d-a691-6e4aab835839",
   "metadata": {},
   "source": [
    "_Hint: You will need to make use of `idxmin()`._"
   ]
  },
  {
   "cell_type": "code",
   "execution_count": 54,
   "id": "199d7efe-7ba1-4129-ba0b-470ec32496e6",
   "metadata": {
    "editable": true,
    "slideshow": {
     "slide_type": ""
    },
    "tags": [
     "clear_answer_cell"
    ]
   },
   "outputs": [
    {
     "data": {
      "text/plain": [
       "gdpPercap_1952    Bosnia and Herzegovina\n",
       "gdpPercap_1957    Bosnia and Herzegovina\n",
       "gdpPercap_1962    Bosnia and Herzegovina\n",
       "gdpPercap_1967    Bosnia and Herzegovina\n",
       "gdpPercap_1972    Bosnia and Herzegovina\n",
       "gdpPercap_1977    Bosnia and Herzegovina\n",
       "gdpPercap_1982                   Albania\n",
       "gdpPercap_1987                   Albania\n",
       "gdpPercap_1992                   Albania\n",
       "gdpPercap_1997                   Albania\n",
       "gdpPercap_2002                   Albania\n",
       "gdpPercap_2007                   Albania\n",
       "dtype: object"
      ]
     },
     "execution_count": 54,
     "metadata": {},
     "output_type": "execute_result"
    }
   ],
   "source": [
    "data.idxmin()"
   ]
  },
  {
   "cell_type": "markdown",
   "id": "7c23f6c6-7a98-495e-885e-165d077979d0",
   "metadata": {},
   "source": [
    "3. Print out the median GDP per capita across all countries for each year."
   ]
  },
  {
   "cell_type": "markdown",
   "id": "04c33f7d-0c99-4cba-8ae2-cbc3f3fae2b8",
   "metadata": {},
   "source": [
    "_Hint: Use `median()`._"
   ]
  },
  {
   "cell_type": "code",
   "execution_count": 56,
   "id": "c974d6eb-93bb-4d34-81a8-fe04a6fdfd1b",
   "metadata": {
    "editable": true,
    "slideshow": {
     "slide_type": ""
    },
    "tags": [
     "clear_answer_cell"
    ]
   },
   "outputs": [
    {
     "data": {
      "text/plain": [
       "country\n",
       "Albania                    3253.238396\n",
       "Austria                   20673.252960\n",
       "Belgium                   20048.910185\n",
       "Bosnia and Herzegovina     3194.325528\n",
       "Bulgaria                   6450.058918\n",
       "Croatia                    9519.847321\n",
       "Czech Republic            14548.590920\n",
       "Denmark                   21055.470990\n",
       "Finland                   17069.290220\n",
       "France                    19293.266300\n",
       "Germany                   21272.226985\n",
       "Greece                    14731.972585\n",
       "Hungary                   11105.232960\n",
       "Iceland                   21462.284985\n",
       "Ireland                   11884.651270\n",
       "Italy                     15396.734125\n",
       "Montenegro                 6780.266660\n",
       "Netherlands               21304.259830\n",
       "Norway                    24804.992350\n",
       "Poland                     8229.018998\n",
       "Portugal                  10963.164315\n",
       "Romania                    7615.953819\n",
       "Serbia                     8658.387652\n",
       "Slovak Republic           10298.415833\n",
       "Slovenia                  14745.873490\n",
       "Spain                     13581.545570\n",
       "Sweden                    19761.553230\n",
       "Switzerland               27796.414080\n",
       "Turkey                     4255.239335\n",
       "United Kingdom            17830.586490\n",
       "dtype: float64"
      ]
     },
     "execution_count": 56,
     "metadata": {},
     "output_type": "execute_result"
    }
   ],
   "source": [
    "data.T.median()"
   ]
  }
 ],
 "metadata": {
  "kernelspec": {
   "display_name": "Python 3 + Jaspy",
   "language": "python",
   "name": "jaspy"
  },
  "language_info": {
   "codemirror_mode": {
    "name": "ipython",
    "version": 3
   },
   "file_extension": ".py",
   "mimetype": "text/x-python",
   "name": "python",
   "nbconvert_exporter": "python",
   "pygments_lexer": "ipython3",
   "version": "3.11.9"
  }
 },
 "nbformat": 4,
 "nbformat_minor": 5
}
