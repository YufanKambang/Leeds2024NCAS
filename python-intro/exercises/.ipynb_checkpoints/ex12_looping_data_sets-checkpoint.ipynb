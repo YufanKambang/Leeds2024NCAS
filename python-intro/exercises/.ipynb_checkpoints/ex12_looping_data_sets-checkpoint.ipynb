{
 "cells": [
  {
   "cell_type": "markdown",
   "id": "5705908d-f299-44e0-a8fd-4f6c97e539cf",
   "metadata": {
    "editable": true,
    "slideshow": {
     "slide_type": ""
    },
    "tags": []
   },
   "source": [
    "# Exercise 12: Looping Over Data Sets"
   ]
  },
  {
   "cell_type": "markdown",
   "id": "e18f0b69-68ac-45ba-bcd3-faf7ed81b7d3",
   "metadata": {},
   "source": [
    "## Aim: Use `glob` to find sets of files, and write loops to perform operations on files. "
   ]
  },
  {
   "cell_type": "markdown",
   "id": "450ff8b3-ed3c-49a0-97b7-2eeccac09a9f",
   "metadata": {},
   "source": [
    "### Issues covered:\n",
    "- Using a `for` loop to loop over a given list of files\n",
    "- Using `glob` to match patterns of files\n",
    "- Looping over sets of files using `glob`\n",
    "- Using `glob` and `for` to process data from mutliple files"
   ]
  },
  {
   "cell_type": "markdown",
   "id": "ebdfcb2f-a714-4372-9d3d-5cae6baf3ee5",
   "metadata": {},
   "source": [
    "## 1. Looping over files from a simple list"
   ]
  },
  {
   "cell_type": "markdown",
   "id": "e102a051-77a9-45de-9d73-57d43ebca41e",
   "metadata": {
    "editable": true,
    "slideshow": {
     "slide_type": ""
    },
    "tags": []
   },
   "source": [
    "Use a `for` loop to loop over the files in the data folder (americas_gdp.csv, europe_gdp.csv and oceania_gdp.csv) and print out the maxima of the datasets."
   ]
  },
  {
   "cell_type": "code",
   "execution_count": 7,
   "id": "983f2f86-5da7-44e6-beac-33b4ec229ba8",
   "metadata": {
    "editable": true,
    "slideshow": {
     "slide_type": ""
    },
    "tags": [
     "clear_answer_cell"
    ]
   },
   "outputs": [
    {
     "name": "stdout",
     "output_type": "stream",
     "text": [
      "../data/americas_gdp.csv \n",
      " continent            Americas\n",
      "gdpPercap_1952    13990.48208\n",
      "gdpPercap_1957    14847.12712\n",
      "gdpPercap_1962    16173.14586\n",
      "gdpPercap_1967    19530.36557\n",
      "gdpPercap_1972    21806.03594\n",
      "gdpPercap_1977    24072.63213\n",
      "gdpPercap_1982    25009.55914\n",
      "gdpPercap_1987    29884.35041\n",
      "gdpPercap_1992    32003.93224\n",
      "gdpPercap_1997    35767.43303\n",
      "gdpPercap_2002    39097.09955\n",
      "gdpPercap_2007    42951.65309\n",
      "dtype: object \n",
      "\n",
      "../data/oceania_gdp.csv \n",
      " gdpPercap_1952    10556.57566\n",
      "gdpPercap_1957    12247.39532\n",
      "gdpPercap_1962    13175.67800\n",
      "gdpPercap_1967    14526.12465\n",
      "gdpPercap_1972    16788.62948\n",
      "gdpPercap_1977    18334.19751\n",
      "gdpPercap_1982    19477.00928\n",
      "gdpPercap_1987    21888.88903\n",
      "gdpPercap_1992    23424.76683\n",
      "gdpPercap_1997    26997.93657\n",
      "gdpPercap_2002    30687.75473\n",
      "gdpPercap_2007    34435.36744\n",
      "dtype: float64 \n",
      "\n",
      "../data/europe_gdp.csv \n",
      " gdpPercap_1952    14734.23275\n",
      "gdpPercap_1957    17909.48973\n",
      "gdpPercap_1962    20431.09270\n",
      "gdpPercap_1967    22966.14432\n",
      "gdpPercap_1972    27195.11304\n",
      "gdpPercap_1977    26982.29052\n",
      "gdpPercap_1982    28397.71512\n",
      "gdpPercap_1987    31540.97480\n",
      "gdpPercap_1992    33965.66115\n",
      "gdpPercap_1997    41283.16433\n",
      "gdpPercap_2002    44683.97525\n",
      "gdpPercap_2007    49357.19017\n",
      "dtype: float64 \n",
      "\n"
     ]
    }
   ],
   "source": [
    "import pandas as pd\n",
    "import glob\n",
    "\n",
    "for file in glob.glob('../data/*_gdp.csv'):\n",
    "    temp_open_file = pd.read_csv(file, index_col='country')\n",
    "    print(file, '\\n', temp_open_file.max(), '\\n')"
   ]
  },
  {
   "cell_type": "markdown",
   "id": "2ea7848d-2d2f-4cdd-b0bc-e7f6fcacbdf1",
   "metadata": {},
   "source": [
    "## 2. Using `glob` to loop through files"
   ]
  },
  {
   "cell_type": "markdown",
   "id": "dc15445c-8337-4c37-ac17-8c026fe58845",
   "metadata": {},
   "source": [
    "What do you think `glob.glob('*.ipynb')` will return? Try it and see."
   ]
  },
  {
   "cell_type": "code",
   "execution_count": 24,
   "id": "ea1f697c-676a-4fbe-a54a-59b1bc554cb5",
   "metadata": {
    "editable": true,
    "slideshow": {
     "slide_type": ""
    },
    "tags": [
     "clear_answer_cell"
    ]
   },
   "outputs": [
    {
     "data": {
      "text/plain": [
       "['ex16_wrap_up.ipynb',\n",
       " 'ex08_plotting.ipynb',\n",
       " 'ex13_writing_functions.ipynb',\n",
       " 'ex12_looping_data_sets.ipynb',\n",
       " 'ex10_for_loops.ipynb',\n",
       " 'ex14_variable_scope.ipynb',\n",
       " 'ex07_pandas_dataframes.ipynb',\n",
       " 'ex05_libraries.ipynb',\n",
       " 'ex06_dataframes.ipynb',\n",
       " 'ex04_built_in_functions.ipynb',\n",
       " 'ex09_lists.ipynb',\n",
       " 'ex01_running_notebooks.ipynb',\n",
       " 'ex15_programming_style.ipynb',\n",
       " 'ex11_conditionals.ipynb',\n",
       " 'ex02_variables_assignment.ipynb',\n",
       " 'ex03_data_types.ipynb']"
      ]
     },
     "execution_count": 24,
     "metadata": {},
     "output_type": "execute_result"
    }
   ],
   "source": [
    "glob.glob('*.ipynb')"
   ]
  },
  {
   "cell_type": "markdown",
   "id": "6683d4b0-914f-4f05-bb6f-bd6a2664a85a",
   "metadata": {},
   "source": [
    "How can we return only the files for exercises 1-9?"
   ]
  },
  {
   "cell_type": "code",
   "execution_count": 28,
   "id": "9580a2d9-8269-4b40-81c8-5f0bba20c5f7",
   "metadata": {
    "editable": true,
    "slideshow": {
     "slide_type": ""
    },
    "tags": [
     "clear_answer_cell"
    ]
   },
   "outputs": [
    {
     "name": "stdout",
     "output_type": "stream",
     "text": [
      "['ex08_plotting.ipynb', 'ex07_pandas_dataframes.ipynb', 'ex05_libraries.ipynb', 'ex06_dataframes.ipynb', 'ex04_built_in_functions.ipynb', 'ex09_lists.ipynb', 'ex01_running_notebooks.ipynb', 'ex02_variables_assignment.ipynb', 'ex03_data_types.ipynb']\n"
     ]
    }
   ],
   "source": [
    "globlist = glob.glob('ex0?*.ipynb')\n",
    "print(globlist)\n",
    "#globlist.sort()\n",
    "#print(globlist)"
   ]
  },
  {
   "cell_type": "markdown",
   "id": "dfa0bb84-9b31-4a45-845a-412b244a66b8",
   "metadata": {},
   "source": [
    "Which exercises have coffee in their title?"
   ]
  },
  {
   "cell_type": "code",
   "execution_count": 30,
   "id": "dadb89cd-7978-4b2c-a3fb-0043b706182a",
   "metadata": {
    "editable": true,
    "slideshow": {
     "slide_type": ""
    },
    "tags": [
     "clear_answer_cell"
    ]
   },
   "outputs": [
    {
     "name": "stdout",
     "output_type": "stream",
     "text": [
      "[]\n"
     ]
    }
   ],
   "source": [
    "print(glob.glob('*coffee*'))"
   ]
  },
  {
   "cell_type": "markdown",
   "id": "61558e1f-e1ab-4f74-bb5e-b91876b18e31",
   "metadata": {},
   "source": [
    "## 3. Using `glob` and `for` to process files"
   ]
  },
  {
   "cell_type": "markdown",
   "id": "a1c888ca-63e3-45ca-acff-2f19941bd761",
   "metadata": {},
   "source": [
    "Write a `for` loop which loops through all of the files containing `gdp` in the title, write the data to a dataframe, then print the dataframe minimum for all columns (using `.min()`)."
   ]
  },
  {
   "cell_type": "code",
   "execution_count": 3,
   "id": "2c667ae6-5674-4532-a5f6-6b67d10cf531",
   "metadata": {
    "editable": true,
    "slideshow": {
     "slide_type": ""
    },
    "tags": [
     "clear_answer_cell"
    ]
   },
   "outputs": [
    {
     "name": "stdout",
     "output_type": "stream",
     "text": [
      "../data/americas_gdp.csv\n",
      "../data/oceania_gdp.csv\n",
      "../data/europe_gdp.csv\n"
     ]
    }
   ],
   "source": [
    "import pandas as pd\n",
    "import glob\n",
    "\n",
    "gdp_files_list = glob.glob('../data/*gdp*.csv')\n",
    "#print(type(gdp_files_list)\n",
    "for gdp_file_path in gdp_files_list:\n",
    "    #print(gdp_file_path)\n",
    "    opened_file = pd.read_csv(gdp_file_path, index_col='country')\n",
    "    "
   ]
  },
  {
   "cell_type": "code",
   "execution_count": null,
   "id": "a851ef57-c12e-45f9-bb77-5f75a5712aed",
   "metadata": {
    "editable": true,
    "slideshow": {
     "slide_type": ""
    },
    "tags": []
   },
   "outputs": [],
   "source": []
  }
 ],
 "metadata": {
  "kernelspec": {
   "display_name": "Python 3 + Jaspy",
   "language": "python",
   "name": "jaspy"
  },
  "language_info": {
   "codemirror_mode": {
    "name": "ipython",
    "version": 3
   },
   "file_extension": ".py",
   "mimetype": "text/x-python",
   "name": "python",
   "nbconvert_exporter": "python",
   "pygments_lexer": "ipython3",
   "version": "3.11.9"
  }
 },
 "nbformat": 4,
 "nbformat_minor": 5
}
