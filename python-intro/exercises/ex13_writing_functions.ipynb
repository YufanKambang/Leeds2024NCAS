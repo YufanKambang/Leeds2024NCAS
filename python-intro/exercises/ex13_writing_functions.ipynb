{
 "cells": [
  {
   "cell_type": "markdown",
   "id": "9cd808c7-e8aa-4804-ac9c-ebb88aaa4adf",
   "metadata": {
    "editable": true,
    "slideshow": {
     "slide_type": ""
    },
    "tags": []
   },
   "source": [
    "# Exercise 13: Writing Functions"
   ]
  },
  {
   "cell_type": "markdown",
   "id": "cbeaf56a-3624-47b2-be5d-96e2178b39e7",
   "metadata": {},
   "source": [
    "## Aim: Introduce writing and calling functions."
   ]
  },
  {
   "cell_type": "markdown",
   "id": "8cc7da2d-e917-4340-8b12-a9f1ae0bc9f7",
   "metadata": {},
   "source": [
    "### Issues covered:\n",
    "- Writing a simple function\n",
    "- Indenting code within a function\n",
    "- Sending arguments to functions\n",
    "- Calling functions\n",
    "- Checking arguments in functions"
   ]
  },
  {
   "cell_type": "markdown",
   "id": "dd98dff4-37ca-4ed4-912a-7a607ede591f",
   "metadata": {},
   "source": [
    "## 1. Let's write a simple function and use it"
   ]
  },
  {
   "cell_type": "markdown",
   "id": "aea58556-8b04-4c7e-93e9-970411285915",
   "metadata": {},
   "source": [
    "Use the `def` function to define a function called `hello` to introduce yourself."
   ]
  },
  {
   "cell_type": "code",
   "execution_count": 1,
   "id": "0ffd8204-9f53-4046-9777-0d9788eaf882",
   "metadata": {
    "editable": true,
    "slideshow": {
     "slide_type": ""
    },
    "tags": [
     "clear_answer_cell"
    ]
   },
   "outputs": [],
   "source": [
    "def hello():\n",
    "    print(\"Hello, my name is Yufan\")\n"
   ]
  },
  {
   "cell_type": "markdown",
   "id": "924ff97c-c9cb-45b2-8013-911421567b28",
   "metadata": {},
   "source": [
    "Did the function return anything? If not, try running it!"
   ]
  },
  {
   "cell_type": "code",
   "execution_count": 2,
   "id": "2c3ba0cf-e7f9-4a00-9cee-62beadcf564c",
   "metadata": {
    "editable": true,
    "slideshow": {
     "slide_type": ""
    },
    "tags": [
     "clear_answer_cell"
    ]
   },
   "outputs": [
    {
     "name": "stdout",
     "output_type": "stream",
     "text": [
      "Hello, my name is Yufan\n"
     ]
    }
   ],
   "source": [
    "hello()"
   ]
  },
  {
   "cell_type": "markdown",
   "id": "2b65a48a-59b6-49bb-a50f-0337f6337140",
   "metadata": {},
   "source": [
    "## 2. Now let's write a function that takes an argument"
   ]
  },
  {
   "cell_type": "markdown",
   "id": "c04ce937-eb00-46b0-9484-0641f6785642",
   "metadata": {},
   "source": [
    "Write a function which takes a number and doubles it."
   ]
  },
  {
   "cell_type": "code",
   "execution_count": 3,
   "id": "74f33b99-6408-4819-8163-01354e71244c",
   "metadata": {
    "editable": true,
    "slideshow": {
     "slide_type": ""
    },
    "tags": [
     "clear_answer_cell"
    ]
   },
   "outputs": [],
   "source": [
    "def double(x):\n",
    "    twox = 2*x\n",
    "    return(twox)"
   ]
  },
  {
   "cell_type": "markdown",
   "id": "1fb61867-5131-4d0f-b512-d5d617ea10d5",
   "metadata": {},
   "source": [
    "Test the function by calling it with an integer, then a float."
   ]
  },
  {
   "cell_type": "code",
   "execution_count": 8,
   "id": "f4009b05-5d2a-45a1-9b5a-a44116b470eb",
   "metadata": {
    "editable": true,
    "slideshow": {
     "slide_type": ""
    },
    "tags": [
     "clear_answer_cell"
    ]
   },
   "outputs": [
    {
     "name": "stdout",
     "output_type": "stream",
     "text": [
      "10\n",
      "13.8\n"
     ]
    }
   ],
   "source": [
    "print(double(5))\n",
    "print(double(6.9))"
   ]
  },
  {
   "cell_type": "markdown",
   "id": "6323b572-4189-4c13-a794-bfd2126625cc",
   "metadata": {},
   "source": [
    "What happens if you give it a string rather than a number?"
   ]
  },
  {
   "cell_type": "code",
   "execution_count": 9,
   "id": "eaba99a3-d877-4454-b828-9e75984811e2",
   "metadata": {
    "editable": true,
    "slideshow": {
     "slide_type": ""
    },
    "tags": [
     "clear_answer_cell"
    ]
   },
   "outputs": [
    {
     "data": {
      "text/plain": [
       "'yy'"
      ]
     },
     "execution_count": 9,
     "metadata": {},
     "output_type": "execute_result"
    }
   ],
   "source": [
    "double('y')"
   ]
  },
  {
   "cell_type": "markdown",
   "id": "908a4511-dee8-4f94-8a7e-16e36a53c8c6",
   "metadata": {},
   "source": [
    "What happens if you give it 2 numbers?"
   ]
  },
  {
   "cell_type": "code",
   "execution_count": 10,
   "id": "67c6badc-66ca-4967-a333-31f41146e5ea",
   "metadata": {
    "editable": true,
    "slideshow": {
     "slide_type": ""
    },
    "tags": [
     "clear_answer_cell",
     "allow_errors"
    ]
   },
   "outputs": [
    {
     "ename": "TypeError",
     "evalue": "double() takes 1 positional argument but 2 were given",
     "output_type": "error",
     "traceback": [
      "\u001b[0;31m---------------------------------------------------------------------------\u001b[0m",
      "\u001b[0;31mTypeError\u001b[0m                                 Traceback (most recent call last)",
      "Cell \u001b[0;32mIn[10], line 1\u001b[0m\n\u001b[0;32m----> 1\u001b[0m \u001b[43mdouble\u001b[49m\u001b[43m(\u001b[49m\u001b[38;5;241;43m12\u001b[39;49m\u001b[43m,\u001b[49m\u001b[43m \u001b[49m\u001b[38;5;241;43m34\u001b[39;49m\u001b[43m)\u001b[49m\n",
      "\u001b[0;31mTypeError\u001b[0m: double() takes 1 positional argument but 2 were given"
     ]
    }
   ],
   "source": [
    "double(12, 34)"
   ]
  },
  {
   "cell_type": "markdown",
   "id": "af866a18-40dc-40e1-b35c-df45c4f3b09a",
   "metadata": {},
   "source": [
    "## 3. Let's take a look at what functions return"
   ]
  },
  {
   "cell_type": "markdown",
   "id": "8a892f7c-c239-4789-a7e1-85273e3b18ca",
   "metadata": {},
   "source": [
    "Why is the result of the following `None`? Can you fix it?\n",
    "```\n",
    "def print_time(hour, minute, second):\n",
    "    time_string = str(hour) + ':' + str(minute) + ':' + str(second)\n",
    "    print(time_string)\n",
    "\n",
    "result = print_time(11, 37, 59)\n",
    "print('result of call is:', result)\n",
    "```"
   ]
  },
  {
   "cell_type": "code",
   "execution_count": 12,
   "id": "5e2860aa-633f-4cc9-9c50-117fcfac5088",
   "metadata": {
    "editable": true,
    "slideshow": {
     "slide_type": ""
    },
    "tags": [
     "clear_answer_cell"
    ]
   },
   "outputs": [
    {
     "name": "stdout",
     "output_type": "stream",
     "text": [
      "result of call is: 11:37:59\n"
     ]
    }
   ],
   "source": [
    "def print_time(hour, minute, second):\n",
    "    time_string = str(hour) + ':' + str(minute) + ':' + str(second)\n",
    "    return(time_string)\n",
    "\n",
    "result = print_time(11, 37, 59)\n",
    "print('result of call is:', result)"
   ]
  },
  {
   "cell_type": "markdown",
   "id": "5d75c52c-7fcb-4726-8dba-b5447cc1c714",
   "metadata": {},
   "source": [
    "Run the following and take a look at what it prints. Restructure it so that instead it prints `calling pressure is 22.5`.\n",
    "```\n",
    "def report(pressure):\n",
    "    print('pressure is', pressure)\n",
    "\n",
    "print('calling', report, 22.5)\n",
    "```"
   ]
  },
  {
   "cell_type": "code",
   "execution_count": 16,
   "id": "b4017873-8a1b-465f-a929-19ee518bb515",
   "metadata": {
    "editable": true,
    "slideshow": {
     "slide_type": ""
    },
    "tags": [
     "clear_answer_cell"
    ]
   },
   "outputs": [
    {
     "name": "stdout",
     "output_type": "stream",
     "text": [
      "calling pressure is 22.5\n"
     ]
    }
   ],
   "source": [
    "def report(pressure):\n",
    "    return('pressure is '+ str(pressure))\n",
    "\n",
    "print('calling', report(22.5))"
   ]
  },
  {
   "cell_type": "markdown",
   "id": "109d940a-3794-4998-bb51-f7b070b81ccf",
   "metadata": {},
   "source": [
    "## 4. Let's write a function to use Pythagoras' Theorem, like in exercise 2."
   ]
  },
  {
   "cell_type": "markdown",
   "id": "321170b7-0af5-4c77-84a6-39571b8f72af",
   "metadata": {},
   "source": [
    "Define a function `calc_hypo` that takes two arguments, `a` and `b`. Inside the function, define a variable `hypo` equal to the length of the hypotenuse and return the value."
   ]
  },
  {
   "cell_type": "code",
   "execution_count": 65,
   "id": "cbad04e1-9a87-4637-9d8c-b1972fe0fcee",
   "metadata": {
    "editable": true,
    "slideshow": {
     "slide_type": ""
    },
    "tags": [
     "clear_answer_cell"
    ]
   },
   "outputs": [],
   "source": [
    "import math\n",
    "def calc_hypo(a, b):\n",
    "    print(locals().keys())\n",
    "    #print(a%-1)\n",
    "    #print(b%-1)\n",
    "    try:\n",
    "        if a%(-1) > 0 or b%(-1) > 0:\n",
    "            print(\"bad argument\")\n",
    "            return(None)\n",
    "        else:\n",
    "            return math.hypot(a, b)\n",
    "    except TypeError as err:\n",
    "        print(\"bad argument\")\n",
    "        raise err\n",
    "        return(None)"
   ]
  },
  {
   "cell_type": "code",
   "execution_count": 66,
   "id": "483701bd-8056-4f10-b0dc-41f372c0ff8f",
   "metadata": {},
   "outputs": [
    {
     "name": "stdout",
     "output_type": "stream",
     "text": [
      "dict_keys(['a', 'b'])\n",
      "bad argument\n"
     ]
    },
    {
     "ename": "TypeError",
     "evalue": "not all arguments converted during string formatting",
     "output_type": "error",
     "traceback": [
      "\u001b[0;31m---------------------------------------------------------------------------\u001b[0m",
      "\u001b[0;31mTypeError\u001b[0m                                 Traceback (most recent call last)",
      "Cell \u001b[0;32mIn[66], line 1\u001b[0m\n\u001b[0;32m----> 1\u001b[0m \u001b[43mcalc_hypo\u001b[49m\u001b[43m(\u001b[49m\u001b[38;5;124;43m'\u001b[39;49m\u001b[38;5;124;43m1\u001b[39;49m\u001b[38;5;124;43m'\u001b[39;49m\u001b[43m,\u001b[49m\u001b[38;5;241;43m1\u001b[39;49m\u001b[43m)\u001b[49m\n",
      "Cell \u001b[0;32mIn[65], line 14\u001b[0m, in \u001b[0;36mcalc_hypo\u001b[0;34m(a, b)\u001b[0m\n\u001b[1;32m     12\u001b[0m \u001b[38;5;28;01mexcept\u001b[39;00m \u001b[38;5;167;01mTypeError\u001b[39;00m \u001b[38;5;28;01mas\u001b[39;00m err:\n\u001b[1;32m     13\u001b[0m     \u001b[38;5;28mprint\u001b[39m(\u001b[38;5;124m\"\u001b[39m\u001b[38;5;124mbad argument\u001b[39m\u001b[38;5;124m\"\u001b[39m)\n\u001b[0;32m---> 14\u001b[0m     \u001b[38;5;28;01mraise\u001b[39;00m err\n\u001b[1;32m     15\u001b[0m     \u001b[38;5;28;01mreturn\u001b[39;00m(\u001b[38;5;28;01mNone\u001b[39;00m)\n",
      "Cell \u001b[0;32mIn[65], line 7\u001b[0m, in \u001b[0;36mcalc_hypo\u001b[0;34m(a, b)\u001b[0m\n\u001b[1;32m      4\u001b[0m \u001b[38;5;66;03m#print(a%-1)\u001b[39;00m\n\u001b[1;32m      5\u001b[0m \u001b[38;5;66;03m#print(b%-1)\u001b[39;00m\n\u001b[1;32m      6\u001b[0m \u001b[38;5;28;01mtry\u001b[39;00m:\n\u001b[0;32m----> 7\u001b[0m     \u001b[38;5;28;01mif\u001b[39;00m \u001b[43ma\u001b[49m\u001b[38;5;241;43m%\u001b[39;49m\u001b[43m(\u001b[49m\u001b[38;5;241;43m-\u001b[39;49m\u001b[38;5;241;43m1\u001b[39;49m\u001b[43m)\u001b[49m \u001b[38;5;241m>\u001b[39m \u001b[38;5;241m0\u001b[39m \u001b[38;5;129;01mor\u001b[39;00m b\u001b[38;5;241m%\u001b[39m(\u001b[38;5;241m-\u001b[39m\u001b[38;5;241m1\u001b[39m) \u001b[38;5;241m>\u001b[39m \u001b[38;5;241m0\u001b[39m:\n\u001b[1;32m      8\u001b[0m         \u001b[38;5;28mprint\u001b[39m(\u001b[38;5;124m\"\u001b[39m\u001b[38;5;124mbad argument\u001b[39m\u001b[38;5;124m\"\u001b[39m)\n\u001b[1;32m      9\u001b[0m         \u001b[38;5;28;01mreturn\u001b[39;00m(\u001b[38;5;28;01mNone\u001b[39;00m)\n",
      "\u001b[0;31mTypeError\u001b[0m: not all arguments converted during string formatting"
     ]
    }
   ],
   "source": [
    "calc_hypo('1',1)"
   ]
  },
  {
   "cell_type": "markdown",
   "id": "a6da8a84-25e8-4b8d-a13b-04d4d96f6b77",
   "metadata": {},
   "source": [
    "Test out the function by calling it with the values `3` and `4`."
   ]
  },
  {
   "cell_type": "code",
   "execution_count": 55,
   "id": "1dff411a-3553-4502-a8c5-2de7337ff677",
   "metadata": {
    "editable": true,
    "slideshow": {
     "slide_type": ""
    },
    "tags": [
     "clear_answer_cell"
    ]
   },
   "outputs": [
    {
     "name": "stdout",
     "output_type": "stream",
     "text": [
      "dict_keys(['a', 'b'])\n",
      "-3\n",
      "-4\n"
     ]
    },
    {
     "data": {
      "text/plain": [
       "5.0"
      ]
     },
     "execution_count": 55,
     "metadata": {},
     "output_type": "execute_result"
    }
   ],
   "source": [
    "calc_hypo(3, 4)"
   ]
  },
  {
   "cell_type": "markdown",
   "id": "f8da770a-b3e0-4e50-8845-a6b5b94e6d89",
   "metadata": {},
   "source": [
    "Let's improve the function by adding some checks. Use `if` statements to print \"bad argument\" and return `None` if the argument type isn't `int` or `float`. "
   ]
  },
  {
   "cell_type": "markdown",
   "id": "f6635e58-80ed-4840-ba6d-a09e7442d129",
   "metadata": {},
   "source": [
    "Call the function with different arguments to check that this is working."
   ]
  },
  {
   "cell_type": "code",
   "execution_count": 52,
   "id": "da8e4b43-be64-410c-8a06-f33480278eb2",
   "metadata": {
    "editable": true,
    "slideshow": {
     "slide_type": ""
    },
    "tags": [
     "clear_answer_cell"
    ]
   },
   "outputs": [
    {
     "name": "stdout",
     "output_type": "stream",
     "text": [
      "\n",
      "-2\n",
      "bad argument\n"
     ]
    }
   ],
   "source": [
    "calc_hypo('1', 2)"
   ]
  },
  {
   "cell_type": "markdown",
   "id": "860ff888-80d9-4363-81a3-a748731806f8",
   "metadata": {},
   "source": [
    "Add a second check to the function which prints \"Bad argument\" and returns `None` if a number equal to or less than zero is given."
   ]
  },
  {
   "cell_type": "code",
   "execution_count": 53,
   "id": "10976433-eade-48dc-aa6e-9c2107812f6d",
   "metadata": {
    "editable": true,
    "slideshow": {
     "slide_type": ""
    },
    "tags": [
     "clear_answer_cell"
    ]
   },
   "outputs": [
    {
     "name": "stdout",
     "output_type": "stream",
     "text": [
      "3\n",
      "-3\n",
      "bad argument\n"
     ]
    }
   ],
   "source": [
    "calc_hypo(-3, 3)"
   ]
  },
  {
   "cell_type": "markdown",
   "id": "7e47de0e-20d4-4297-9945-fc08c8c1fda6",
   "metadata": {},
   "source": [
    "Test out the check you added."
   ]
  },
  {
   "cell_type": "markdown",
   "id": "11d678c1-135f-415f-aec5-ee2215d1a32e",
   "metadata": {},
   "source": [
    "## 5. Extension Activity"
   ]
  },
  {
   "cell_type": "markdown",
   "id": "e554c739-cbb7-4137-8caa-0e5619331efb",
   "metadata": {},
   "source": [
    "1. Write a function which computes the average GDP for each file for a given country, continent and year."
   ]
  },
  {
   "cell_type": "markdown",
   "id": "6b8ff5a3-dfcc-4eec-aa62-72824c4f7b4e",
   "metadata": {},
   "source": [
    "_Hint: You will need the following steps:_\n",
    "1. Create a function with the arguments country, continent, year.\n",
    "2. Read the csv file (use the continent variable in the filename to open any file - e.g. the file name should be /data/`continent`_gdp.csv).\n",
    "3. Use `.loc[ ]` to locate where the data for the country is.\n",
    "4. Work out the GDP decade using the year given (maybe using floor division `//`).\n",
    "5. Loop over the columns to find the one which starts with 'gdpPercap_`year`' (make use of `.index` and `.startswith()`).\n",
    "6. Try calling the function and see what it returns - if you call it for Canada, americas in 1952 your answer should be 11928.55559."
   ]
  },
  {
   "cell_type": "code",
   "execution_count": 79,
   "id": "912dcf85-c6ea-49a7-b73f-4d036357cef9",
   "metadata": {
    "editable": true,
    "slideshow": {
     "slide_type": ""
    },
    "tags": [
     "clear_answer_cell"
    ]
   },
   "outputs": [],
   "source": [
    "import pandas as pd\n",
    "import glob\n",
    "\n",
    "def avg_GDP(continent, country, year):\n",
    "    df = pd.read_csv(f\"../data/{continent}_gdp.csv\", index_col='country')\n",
    "    print(df.loc[country])\n",
    "    print(type(df.loc[country]))\n",
    "    return None"
   ]
  },
  {
   "cell_type": "code",
   "execution_count": 80,
   "id": "06347428-074b-4b53-a7b5-0728fb4cef92",
   "metadata": {
    "editable": true,
    "slideshow": {
     "slide_type": ""
    },
    "tags": []
   },
   "outputs": [
    {
     "name": "stdout",
     "output_type": "stream",
     "text": [
      "gdpPercap_1952     7029.809327\n",
      "gdpPercap_1957     8662.834898\n",
      "gdpPercap_1962    10560.485530\n",
      "gdpPercap_1967    12999.917660\n",
      "gdpPercap_1972    16107.191710\n",
      "gdpPercap_1977    18292.635140\n",
      "gdpPercap_1982    20293.897460\n",
      "gdpPercap_1987    22066.442140\n",
      "gdpPercap_1992    24703.796150\n",
      "gdpPercap_1997    25889.784870\n",
      "gdpPercap_2002    28926.032340\n",
      "gdpPercap_2007    30470.016700\n",
      "Name: France, dtype: float64\n",
      "<class 'pandas.core.series.Series'>\n"
     ]
    }
   ],
   "source": [
    "avg_GDP('europe', 'France', 1987)"
   ]
  },
  {
   "cell_type": "code",
   "execution_count": null,
   "id": "d9302c46-3ded-4bb0-b366-165a8ae53293",
   "metadata": {},
   "outputs": [],
   "source": []
  }
 ],
 "metadata": {
  "kernelspec": {
   "display_name": "Python 3 + Jaspy",
   "language": "python",
   "name": "jaspy"
  },
  "language_info": {
   "codemirror_mode": {
    "name": "ipython",
    "version": 3
   },
   "file_extension": ".py",
   "mimetype": "text/x-python",
   "name": "python",
   "nbconvert_exporter": "python",
   "pygments_lexer": "ipython3",
   "version": "3.11.9"
  }
 },
 "nbformat": 4,
 "nbformat_minor": 5
}
